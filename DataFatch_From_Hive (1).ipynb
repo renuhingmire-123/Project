{
 "cells": [
  {
   "cell_type": "code",
   "execution_count": 2,
   "id": "f21732a8",
   "metadata": {},
   "outputs": [],
   "source": [
    "# Intialization\n",
    "import os\n",
    "import sys\n",
    "\n",
    "os.environ[\"SPARK_HOME\"] = \"/home/talentum/spark\"\n",
    "os.environ[\"PYLIB\"] = os.environ[\"SPARK_HOME\"] + \"/python/lib\"\n",
    "# In below two lines, use /usr/bin/python2.7 if you want to use Python 2\n",
    "os.environ[\"PYSPARK_PYTHON\"] = \"/usr/bin/python3.6\" \n",
    "os.environ[\"PYSPARK_DRIVER_PYTHON\"] = \"/usr/bin/python3\"\n",
    "sys.path.insert(0, os.environ[\"PYLIB\"] +\"/py4j-0.10.7-src.zip\")\n",
    "sys.path.insert(0, os.environ[\"PYLIB\"] +\"/pyspark.zip\")\n",
    "\n",
    "# NOTE: Whichever package you want mention here.\n",
    "# os.environ['PYSPARK_SUBMIT_ARGS'] = '--packages com.databricks:spark-xml_2.11:0.6.0 pyspark-shell' \n",
    "# os.environ['PYSPARK_SUBMIT_ARGS'] = '--packages org.apache.spark:spark-avro_2.11:2.4.0 pyspark-shell'\n",
    "os.environ['PYSPARK_SUBMIT_ARGS'] = '--packages com.databricks:spark-xml_2.11:0.6.0,org.apache.spark:spark-avro_2.11:2.4.3 pyspark-shell'\n",
    "# os.environ['PYSPARK_SUBMIT_ARGS'] = '--packages com.databricks:spark-xml_2.11:0.6.0,org.apache.spark:spark-avro_2.11:2.4.0 pyspark-shell'"
   ]
  },
  {
   "cell_type": "code",
   "execution_count": 4,
   "id": "9a03cd24",
   "metadata": {},
   "outputs": [
    {
     "name": "stdout",
     "output_type": "stream",
     "text": [
      "Schema of the Parquet file:\n",
      "StructType(List(StructField(TransactionID,StringType,true),StructField(CustomerID,StringType,true),StructField(CustGender,StringType,true),StructField(CustAccountBalance,FloatType,true),StructField(TransactionDate,DateType,true),StructField(TransactionAmountINR,FloatType,true),StructField(CustomerAge,IntegerType,true),StructField(CustLocation,StringType,true)))\n"
     ]
    }
   ],
   "source": [
    "from pyspark.sql import SparkSession\n",
    "\n",
    "# Initialize SparkSession\n",
    "spark = SparkSession.builder \\\n",
    "    .appName(\"Read Parquet and Extract Schema\") \\\n",
    "    .getOrCreate()\n",
    "\n",
    "# Path to your Parquet file\n",
    "parquet_file_path = \"file:///home/talentum/datapar/*.parquet\"\n",
    "\n",
    "# Read the Parquet file into a DataFrame\n",
    "df = spark.read.parquet(parquet_file_path)\n",
    "\n",
    "# Extract and print the schema\n",
    "schema = df.schema\n",
    "print(\"Schema of the Parquet file:\")\n",
    "print(schema)\n"
   ]
  },
  {
   "cell_type": "code",
   "execution_count": 5,
   "id": "fdc5b51a",
   "metadata": {},
   "outputs": [
    {
     "name": "stdout",
     "output_type": "stream",
     "text": [
      "+--------------------+---------+-------+\n",
      "|            col_name|data_type|comment|\n",
      "+--------------------+---------+-------+\n",
      "|      transaction_id|   string|   null|\n",
      "|         customer_id|   string|   null|\n",
      "|         cust_gender|   string|   null|\n",
      "|cust_account_balance|   double|   null|\n",
      "|    transaction_date|     date|   null|\n",
      "|transaction_amoun...|   double|   null|\n",
      "|        customer_age|      int|   null|\n",
      "|       cust_location|   string|   null|\n",
      "+--------------------+---------+-------+\n",
      "\n",
      "+-------------+----------+----------+------------------+---------------+--------------------+-----------+------------+\n",
      "|TransactionID|CustomerID|CustGender|CustAccountBalance|TransactionDate|TransactionAmountINR|CustomerAge|CustLocation|\n",
      "+-------------+----------+----------+------------------+---------------+--------------------+-----------+------------+\n",
      "|           T1|  C5841053|         F|          17819.05|     2016-08-02|                25.0|         22|  JAMSHEDPUR|\n",
      "|           T3|  C4417068|         F|          17874.44|     2016-08-02|               459.0|         19|      MUMBAI|\n",
      "|           T4|  C5342380|         F|          866503.2|     2016-08-02|              2060.0|         43|      MUMBAI|\n",
      "|           T5|  C9031234|         F|           6714.43|     2016-08-02|              1762.5|         28|      MUMBAI|\n",
      "|           T6|  C1536588|         F|           53609.2|     2016-08-02|               676.0|         44|    ITANAGAR|\n",
      "+-------------+----------+----------+------------------+---------------+--------------------+-----------+------------+\n",
      "only showing top 5 rows\n",
      "\n"
     ]
    }
   ],
   "source": [
    "from pyspark.sql import SparkSession\n",
    "\n",
    "# Initialize Spark Session with Hive support\n",
    "spark = SparkSession.builder \\\n",
    "    .appName(\"Spark Hive Integration\") \\\n",
    "    .config(\"spark.sql.catalogImplementation\", \"hive\") \\\n",
    "    .enableHiveSupport() \\\n",
    "    .getOrCreate()\n",
    "\n",
    "# Describe the Hive table\n",
    "spark.sql(\"DESCRIBE project.bank_customer_segmentation\").show()\n",
    "\n",
    "# Read a Parquet file into a DataFrame\n",
    "parquet_file_path = \"file:///home/talentum/datapar/*.parquet\"\n",
    "df = spark.read.parquet(parquet_file_path)\n",
    "\n",
    "# Write Data to the Hive table\n",
    "df.write.mode(\"overwrite\").saveAsTable(\"project.bank_customer_segmentation\")\n",
    "\n",
    "# Read the data from the Hive table\n",
    "df_from_hive = spark.sql(\"SELECT * FROM project.bank_customer_segmentation\")\n",
    "\n",
    "# Show the top 50 rows\n",
    "df_from_hive.show(5)\n",
    "\n",
    "# Stop the Spark session\n",
    "#spark.stop()\n"
   ]
  },
  {
   "cell_type": "code",
   "execution_count": null,
   "id": "4c94e467",
   "metadata": {},
   "outputs": [],
   "source": []
  }
 ],
 "metadata": {
  "kernelspec": {
   "display_name": "Python 3",
   "language": "python",
   "name": "python3"
  },
  "language_info": {
   "codemirror_mode": {
    "name": "ipython",
    "version": 3
   },
   "file_extension": ".py",
   "mimetype": "text/x-python",
   "name": "python",
   "nbconvert_exporter": "python",
   "pygments_lexer": "ipython3",
   "version": "3.6.9"
  }
 },
 "nbformat": 4,
 "nbformat_minor": 5
}
