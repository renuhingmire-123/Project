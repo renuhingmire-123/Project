{
 "cells": [
  {
   "cell_type": "code",
   "execution_count": 1,
   "id": "ddb44fcd",
   "metadata": {},
   "outputs": [],
   "source": [
    "# Intialization\n",
    "import os\n",
    "import sys\n",
    "\n",
    "os.environ[\"SPARK_HOME\"] = \"/home/talentum/spark\"\n",
    "os.environ[\"PYLIB\"] = os.environ[\"SPARK_HOME\"] + \"/python/lib\"\n",
    "# In below two lines, use /usr/bin/python2.7 if you want to use Python 2\n",
    "os.environ[\"PYSPARK_PYTHON\"] = \"/usr/bin/python3.6\" \n",
    "os.environ[\"PYSPARK_DRIVER_PYTHON\"] = \"/usr/bin/python3\"\n",
    "sys.path.insert(0, os.environ[\"PYLIB\"] +\"/py4j-0.10.7-src.zip\")\n",
    "sys.path.insert(0, os.environ[\"PYLIB\"] +\"/pyspark.zip\")\n",
    "\n",
    "# NOTE: Whichever package you want mention here.\n",
    "# os.environ['PYSPARK_SUBMIT_ARGS'] = '--packages com.databricks:spark-xml_2.11:0.6.0 pyspark-shell' \n",
    "# os.environ['PYSPARK_SUBMIT_ARGS'] = '--packages org.apache.spark:spark-avro_2.11:2.4.0 pyspark-shell'\n",
    "os.environ['PYSPARK_SUBMIT_ARGS'] = '--packages com.databricks:spark-xml_2.11:0.6.0,org.apache.spark:spark-avro_2.11:2.4.3 pyspark-shell'\n",
    "# os.environ['PYSPARK_SUBMIT_ARGS'] = '--packages com.databricks:spark-xml_2.11:0.6.0,org.apache.spark:spark-avro_2.11:2.4.0 pyspark-shell'"
   ]
  },
  {
   "cell_type": "code",
   "execution_count": 2,
   "id": "6d9058af",
   "metadata": {},
   "outputs": [],
   "source": [
    "#import important library \n",
    "from pyspark.sql import SparkSession\n",
    "from pyspark.sql.functions import col, year, month, dayofmonth, dayofweek, when, isnan, when, count, expr, min, max\n",
    "from pyspark.sql.functions import countDistinct, mean, stddev, first ,col, to_date, regexp_replace, udf\n",
    "from pyspark.sql.functions import sum as spark_sum, round, rank, split, trim, size, datediff, floor, lit\n",
    "from pyspark.sql.types import StructType, StructField, StringType, FloatType, DateType, IntegerType\n",
    "from pyspark.sql.types import StringType, BooleanType, IntegerType\n",
    "from pyspark.sql.window import Window\n",
    "import pandas as pd\n",
    "\n"
   ]
  },
  {
   "cell_type": "code",
   "execution_count": 4,
   "id": "c5eaf79b",
   "metadata": {},
   "outputs": [],
   "source": [
    "#Entrypoint 2.x\n",
    "spark = SparkSession.builder.appName(\"Bank Customer Segmentation\").getOrCreate()\n",
    "\n",
    "# On yarn:\n",
    "# spark = SparkSession.builder.appName(\"Spark SQL basic example\").enableHiveSupport().master(\"yarn\").getOrCreate()\n",
    "# specify .master(\"yarn\")\n",
    "\n",
    "sc = spark.sparkContext"
   ]
  },
  {
   "cell_type": "code",
   "execution_count": 5,
   "id": "6fa8d588",
   "metadata": {},
   "outputs": [
    {
     "name": "stdout",
     "output_type": "stream",
     "text": [
      "The file_path is Bank_dataset.csv\n"
     ]
    }
   ],
   "source": [
    "#declare schema for dataframe\n",
    "schema = StructType([\n",
    "    StructField(\"TransactionID\", StringType(), True),\n",
    "    StructField(\"CustomerID\", StringType(), True),\n",
    "    StructField(\"CustomerDOB\", StringType(), True),\n",
    "    StructField(\"CustGender\", StringType(), True),\n",
    "    StructField(\"CustLocation\", StringType(), True),\n",
    "    StructField(\"CustAccountBalance\", FloatType(), True),\n",
    "    StructField(\"TransactionDate\", StringType(), True),\n",
    "    StructField(\"TransactionTime\", StringType(), True),\n",
    "    StructField(\"TransactionAmountINR\", FloatType(), True)\n",
    "])\n",
    "file_path = \"Bank_dataset.csv\"\n",
    "\n",
    "# Print the file_path\n",
    "print(\"The file_path is\", file_path)"
   ]
  },
  {
   "cell_type": "markdown",
   "id": "6f6e8e96",
   "metadata": {},
   "source": [
    "# Basic ETL operation"
   ]
  },
  {
   "cell_type": "code",
   "execution_count": 6,
   "id": "8c052c56",
   "metadata": {},
   "outputs": [
    {
     "name": "stdout",
     "output_type": "stream",
     "text": [
      "+-------------+----------+-----------+----------+------------+------------------+---------------+---------------+--------------------+\n",
      "|TransactionID|CustomerID|CustomerDOB|CustGender|CustLocation|CustAccountBalance|TransactionDate|TransactionTime|TransactionAmountINR|\n",
      "+-------------+----------+-----------+----------+------------+------------------+---------------+---------------+--------------------+\n",
      "|           T1|  C5841053| 10-01-1994|         F|  JAMSHEDPUR|          17819.05|     02-08-2016|         143207|                25.0|\n",
      "|           T2|  C2142763| 04-04-1957|         M|     JHAJJAR|           2270.69|     02-08-2016|         141858|             27999.0|\n",
      "|           T3|  C4417068| 26-11-1996|         F|      MUMBAI|          17874.44|     02-08-2016|         142712|               459.0|\n",
      "|           T4|  C5342380| 14-09-1973|         F|      MUMBAI|          866503.2|     02-08-2016|         142714|              2060.0|\n",
      "|           T5|  C9031234| 24-03-1988|         F| NAVI MUMBAI|           6714.43|     02-08-2016|         181156|              1762.5|\n",
      "+-------------+----------+-----------+----------+------------+------------------+---------------+---------------+--------------------+\n",
      "only showing top 5 rows\n",
      "\n",
      "root\n",
      " |-- TransactionID: string (nullable = true)\n",
      " |-- CustomerID: string (nullable = true)\n",
      " |-- CustomerDOB: string (nullable = true)\n",
      " |-- CustGender: string (nullable = true)\n",
      " |-- CustLocation: string (nullable = true)\n",
      " |-- CustAccountBalance: float (nullable = true)\n",
      " |-- TransactionDate: string (nullable = true)\n",
      " |-- TransactionTime: string (nullable = true)\n",
      " |-- TransactionAmountINR: float (nullable = true)\n",
      "\n"
     ]
    }
   ],
   "source": [
    "#Reading the csv file\n",
    "df = spark.read.csv(file_path, header=True, schema = StructType(schema))\n",
    "\n",
    "# Inspect Data\n",
    "df.show(5)\n",
    "df.printSchema()"
   ]
  },
  {
   "cell_type": "code",
   "execution_count": 7,
   "id": "38e057a4",
   "metadata": {},
   "outputs": [
    {
     "name": "stdout",
     "output_type": "stream",
     "text": [
      "The Number of Row's is:1048567,\n",
      "The Number of Columns is: 9\n"
     ]
    }
   ],
   "source": [
    "#Counting rows and cloumns \n",
    "row_count = df.count()\n",
    "column_count = len(df.columns)\n",
    "print(\"The Number of Row's is:{},\\nThe Number of Columns is: {}\".format(row_count,column_count))"
   ]
  },
  {
   "cell_type": "code",
   "execution_count": 8,
   "id": "4ad3364b",
   "metadata": {},
   "outputs": [],
   "source": [
    "#Convert the column which contain date type data type \n",
    "df = df.withColumn(\"CustomerDOB\", to_date(col(\"CustomerDOB\"), \"dd-MM-yyyy\"))\n",
    "df = df.withColumn(\"TransactionDate\", to_date(col(\"TransactionDate\"), \"dd-MM-yyyy\"))"
   ]
  },
  {
   "cell_type": "code",
   "execution_count": 9,
   "id": "8d25ba1a",
   "metadata": {},
   "outputs": [
    {
     "name": "stdout",
     "output_type": "stream",
     "text": [
      "+-------+-------------+----------+----------+--------------------+------------------+------------------+--------------------+\n",
      "|summary|TransactionID|CustomerID|CustGender|        CustLocation|CustAccountBalance|   TransactionTime|TransactionAmountINR|\n",
      "+-------+-------------+----------+----------+--------------------+------------------+------------------+--------------------+\n",
      "|  count|      1048567|   1048567|   1047467|             1048416|           1046198|           1048567|             1048567|\n",
      "|   mean|         null|      null|      null|            400012.0|115403.54003532877|157087.52939297154|  1574.3350034945934|\n",
      "| stddev|         null|      null|      null|                 0.0|  846485.381321891| 51261.85402232959|   6574.742984257266|\n",
      "|    min|           T1|  C1010011|         F|(154) BHASKOLA FA...|               0.0|                 0|                 0.0|\n",
      "|    max|      T999999|  C9099956|         T|           ZUNHEBOTO|      1.15035496E8|             95959|           1560035.0|\n",
      "+-------+-------------+----------+----------+--------------------+------------------+------------------+--------------------+\n",
      "\n"
     ]
    }
   ],
   "source": [
    "# Summary Statistics\n",
    "df.describe().show()"
   ]
  },
  {
   "cell_type": "code",
   "execution_count": 10,
   "id": "6f9139bb",
   "metadata": {},
   "outputs": [
    {
     "name": "stdout",
     "output_type": "stream",
     "text": [
      "The column 'CustomerDOB' contains 60736 null values.\n",
      "The column 'CustGender' contains 1100 null values.\n",
      "The column 'CustLocation' contains 151 null values.\n",
      "The column 'CustAccountBalance' contains 2369 null values.\n"
     ]
    }
   ],
   "source": [
    "# Checking for Null Values\n",
    "null_counts = df.select([count(when(col(c).isNull(), c)).alias(c) for c in df.columns])\n",
    "\n",
    "# Collect the result into a local DataFrame\n",
    "null_counts_result = null_counts.collect()[0]\n",
    "\n",
    "# Display results\n",
    "for column, count in null_counts_result.asDict().items():\n",
    "    if count > 0:\n",
    "        print(f\"The column '{column}' contains {count} null values.\")"
   ]
  },
  {
   "cell_type": "code",
   "execution_count": 11,
   "id": "3a3c1854",
   "metadata": {},
   "outputs": [
    {
     "name": "stdout",
     "output_type": "stream",
     "text": [
      "+-------------+-----+\n",
      "|TransactionID|count|\n",
      "+-------------+-----+\n",
      "|         T352|    1|\n",
      "|         T590|    1|\n",
      "|         T855|    1|\n",
      "|         T929|    1|\n",
      "|         T947|    1|\n",
      "|        T1118|    1|\n",
      "|        T1401|    1|\n",
      "|        T1508|    1|\n",
      "|        T1767|    1|\n",
      "|        T1872|    1|\n",
      "|        T2345|    1|\n",
      "|        T2463|    1|\n",
      "|        T2837|    1|\n",
      "|        T2947|    1|\n",
      "|        T3091|    1|\n",
      "|        T3230|    1|\n",
      "|        T3271|    1|\n",
      "|        T3337|    1|\n",
      "|        T3396|    1|\n",
      "|        T4155|    1|\n",
      "+-------------+-----+\n",
      "only showing top 20 rows\n",
      "\n",
      "+----------+-----+\n",
      "|CustomerID|count|\n",
      "+----------+-----+\n",
      "|  C8732711|    1|\n",
      "|  C6421261|    2|\n",
      "|  C2939112|    2|\n",
      "|  C8741166|    1|\n",
      "|  C4440931|    1|\n",
      "|  C8116854|    1|\n",
      "|  C4029960|    1|\n",
      "|  C7817677|    4|\n",
      "|  C4240562|    1|\n",
      "|  C2221420|    1|\n",
      "|  C8524541|    1|\n",
      "|  C5638051|    3|\n",
      "|  C2331867|    1|\n",
      "|  C5534211|    1|\n",
      "|  C4940219|    1|\n",
      "|  C2230276|    1|\n",
      "|  C4341556|    1|\n",
      "|  C7283217|    1|\n",
      "|  C3825339|    1|\n",
      "|  C4138928|    1|\n",
      "+----------+-----+\n",
      "only showing top 20 rows\n",
      "\n",
      "+----------+------+\n",
      "|CustGender| count|\n",
      "+----------+------+\n",
      "|         F|281936|\n",
      "|      null|  1100|\n",
      "|         T|     1|\n",
      "|         M|765530|\n",
      "+----------+------+\n",
      "\n",
      "+--------------------+-----+\n",
      "|        CustLocation|count|\n",
      "+--------------------+-----+\n",
      "|             GWALIOR|  948|\n",
      "|      UTTAR DINAJPUR|   62|\n",
      "|             SANGRUR|  353|\n",
      "|  ACADEMY SAMASTIPUR|    5|\n",
      "|NO 3 NR LALLAN HO...|   57|\n",
      "|GATE DARIYAPUR AH...|    7|\n",
      "|ELPHINSTONE W MUMBAI|   12|\n",
      "|             SHIMOGA|  114|\n",
      "|          FLOOR PUNE|    2|\n",
      "|           TIRUVALLA|    8|\n",
      "|        SARAN CHAPRA|    3|\n",
      "|             MOHANIA|    2|\n",
      "|              TEEKOY|   10|\n",
      "|CUMBALLA HILL MUMBAI|    2|\n",
      "|            KANUBARI|   24|\n",
      "|          NALAPPURAM|    5|\n",
      "|B/H ATM UNION BAN...|    5|\n",
      "|  TIRUPATI NGR THANE|    2|\n",
      "|            K K DIST|   10|\n",
      "|              SUBBAL|    3|\n",
      "+--------------------+-----+\n",
      "only showing top 20 rows\n",
      "\n",
      "+---------------+-----+\n",
      "|TransactionTime|count|\n",
      "+---------------+-----+\n",
      "|         171343|   22|\n",
      "|         153618|   17|\n",
      "|         155658|   20|\n",
      "|         193630|   26|\n",
      "|         214945|   30|\n",
      "|         201828|   34|\n",
      "|         194045|   30|\n",
      "|         194106|   25|\n",
      "|         212148|   27|\n",
      "|         194505|   25|\n",
      "|         203756|   25|\n",
      "|         210428|   26|\n",
      "|         215726|   20|\n",
      "|         205151|   28|\n",
      "|         201124|   36|\n",
      "|         212214|   32|\n",
      "|         164940|   25|\n",
      "|         151828|   14|\n",
      "|         163846|   15|\n",
      "|         192839|   29|\n",
      "+---------------+-----+\n",
      "only showing top 20 rows\n",
      "\n"
     ]
    }
   ],
   "source": [
    "# Value Counts for Categorical Features\n",
    "categorical_columns = [col_name for col_name, dtype in df.dtypes if dtype == 'string']\n",
    "\n",
    "for column in categorical_columns:\n",
    "    df.groupBy(column).count().show()"
   ]
  },
  {
   "cell_type": "code",
   "execution_count": 12,
   "id": "d9ccb8bb",
   "metadata": {},
   "outputs": [],
   "source": [
    "# Correlation Analysis (for numerical features)\n",
    "numeric_columns = [col_name for col_name, dtype in df.dtypes if dtype in ['int', 'double']]\n",
    "\n",
    "for column in numeric_columns:\n",
    "    df.select(column).summary().show()"
   ]
  },
  {
   "cell_type": "code",
   "execution_count": 13,
   "id": "02f3eea1",
   "metadata": {},
   "outputs": [
    {
     "name": "stdout",
     "output_type": "stream",
     "text": [
      "root\n",
      " |-- TransactionID: string (nullable = true)\n",
      " |-- CustomerID: string (nullable = true)\n",
      " |-- CustomerDOB: date (nullable = true)\n",
      " |-- CustGender: string (nullable = true)\n",
      " |-- CustLocation: string (nullable = true)\n",
      " |-- CustAccountBalance: float (nullable = true)\n",
      " |-- TransactionDate: date (nullable = true)\n",
      " |-- TransactionTime: string (nullable = true)\n",
      " |-- TransactionAmountINR: float (nullable = true)\n",
      "\n"
     ]
    }
   ],
   "source": [
    "#confirming the schema\n",
    "df.printSchema()"
   ]
  },
  {
   "cell_type": "code",
   "execution_count": 14,
   "id": "28c13dc5",
   "metadata": {},
   "outputs": [
    {
     "name": "stdout",
     "output_type": "stream",
     "text": [
      "+-------------+----------+-----------+----------+------------+------------------+---------------+---------------+--------------------+\n",
      "|TransactionID|CustomerID|CustomerDOB|CustGender|CustLocation|CustAccountBalance|TransactionDate|TransactionTime|TransactionAmountINR|\n",
      "+-------------+----------+-----------+----------+------------+------------------+---------------+---------------+--------------------+\n",
      "|            0|         0|          0|         0|           0|                 0|              0|              0|                   0|\n",
      "+-------------+----------+-----------+----------+------------+------------------+---------------+---------------+--------------------+\n",
      "\n"
     ]
    }
   ],
   "source": [
    "# Drop rows with null values in specific columns\n",
    "df = df.na.drop(subset=[\"CustGender\", \"CustLocation\", \"CustAccountBalance\",\"CustomerDOB\"])\n",
    "\n",
    "# Count null values for each column\n",
    "null_counts_after_drop = df.select([spark_sum(when(col(c).isNull(), 1).otherwise(0)).alias(c) for c in df.columns])\n",
    "\n",
    "# Show the results\n",
    "null_counts_after_drop.show()\n"
   ]
  },
  {
   "cell_type": "code",
   "execution_count": 15,
   "id": "088f782a",
   "metadata": {},
   "outputs": [
    {
     "data": {
      "text/plain": [
       "0"
      ]
     },
     "execution_count": 15,
     "metadata": {},
     "output_type": "execute_result"
    }
   ],
   "source": [
    "#Function to check whether the given column contain any value different from datatype\n",
    "def is_valid_number(value):\n",
    "    try:\n",
    "        float(value)\n",
    "        return True\n",
    "    except ValueError:\n",
    "        return False\n",
    "\n",
    "is_valid_number_udf = udf(is_valid_number, BooleanType())\n",
    "\n",
    "# Columns to check\n",
    "columns_to_check = [\"CustAccountBalance\", \"TransactionAmountINR\"]\n",
    "\n",
    "# Apply the UDF to flag rows with invalid data types in the specified columns\n",
    "for column in columns_to_check:\n",
    "    df = df.withColumn(f\"{column}_is_valid\", is_valid_number_udf(col(column)))\n",
    "    \n",
    "invalid_rows = df.filter((col(\"CustAccountBalance_is_valid\") == False) | \n",
    "                         (col(\"TransactionAmountINR_is_valid\") == False))\n",
    "\n",
    "invalid_rows.count()\n"
   ]
  },
  {
   "cell_type": "code",
   "execution_count": 16,
   "id": "596e2fdd",
   "metadata": {},
   "outputs": [
    {
     "name": "stdout",
     "output_type": "stream",
     "text": [
      "root\n",
      " |-- TransactionID: string (nullable = true)\n",
      " |-- CustomerID: string (nullable = true)\n",
      " |-- CustomerDOB: date (nullable = true)\n",
      " |-- CustGender: string (nullable = true)\n",
      " |-- CustLocation: string (nullable = true)\n",
      " |-- CustAccountBalance: float (nullable = true)\n",
      " |-- TransactionDate: date (nullable = true)\n",
      " |-- TransactionTime: string (nullable = true)\n",
      " |-- TransactionAmountINR: float (nullable = true)\n",
      " |-- CustAccountBalance_is_valid: boolean (nullable = true)\n",
      " |-- TransactionAmountINR_is_valid: boolean (nullable = true)\n",
      "\n"
     ]
    }
   ],
   "source": [
    "#confirming the schema\n",
    "df.printSchema()"
   ]
  },
  {
   "cell_type": "code",
   "execution_count": 17,
   "id": "5a7e6deb",
   "metadata": {},
   "outputs": [
    {
     "name": "stdout",
     "output_type": "stream",
     "text": [
      "The Number of Row's is:985322,\n",
      "The Number of Columns is: 11\n"
     ]
    }
   ],
   "source": [
    "#counting the row's and column's value\n",
    "row_count = df.count()\n",
    "column_count = len(df.columns)\n",
    "print(\"The Number of Row's is:{},\\nThe Number of Columns is: {}\".format(row_count,column_count))"
   ]
  },
  {
   "cell_type": "code",
   "execution_count": 18,
   "id": "00343737",
   "metadata": {},
   "outputs": [
    {
     "name": "stdout",
     "output_type": "stream",
     "text": [
      "+----+-----+\n",
      "|Year|Count|\n",
      "+----+-----+\n",
      "|1959| 2133|\n",
      "|1990|72616|\n",
      "|1975|12293|\n",
      "|2025|    1|\n",
      "|1977|16626|\n",
      "|2027|   49|\n",
      "|2003|   69|\n",
      "|2007|   46|\n",
      "|2018|    1|\n",
      "|1974|10952|\n",
      "|2015|   25|\n",
      "|2023|    6|\n",
      "|1955| 1761|\n",
      "|2006|   21|\n",
      "|1978|19605|\n",
      "|2022|    3|\n",
      "|1961| 2164|\n",
      "|2013|   27|\n",
      "|1942|  400|\n",
      "|1944|  412|\n",
      "+----+-----+\n",
      "only showing top 20 rows\n",
      "\n"
     ]
    }
   ],
   "source": [
    "#importing modules \n",
    "from pyspark.sql.functions import col, year, count\n",
    "df = df.withColumn(\"Year\", year(col(\"CustomerDOB\")))\n",
    "\n",
    "# Group by 'Year' and count occurrences\n",
    "year_counts = df.groupBy(\"Year\").agg(count(\"*\").alias(\"Count\"))\n",
    "\n",
    "# Show the results\n",
    "year_counts.show()"
   ]
  },
  {
   "cell_type": "code",
   "execution_count": 19,
   "id": "bcfe4844",
   "metadata": {},
   "outputs": [
    {
     "data": {
      "text/plain": [
       "54394"
      ]
     },
     "execution_count": 19,
     "metadata": {},
     "output_type": "execute_result"
    }
   ],
   "source": [
    "#adding window functions\n",
    "window_spec = Window.orderBy(\"Year\")\n",
    "\n",
    "# Calculate quantiles (Q1, Q3)\n",
    "quantiles = df.selectExpr(\"percentile_approx(Year, 0.25) as Q1\", \"percentile_approx(Year, 0.75) as Q3\").collect()\n",
    "q1 = quantiles[0][\"Q1\"]\n",
    "q3 = quantiles[0][\"Q3\"]\n",
    "\n",
    "# Calculate IQR\n",
    "iqr = q3 - q1\n",
    "\n",
    "# Define bounds for outliers\n",
    "lower_bound = q1 - 1.5 * iqr\n",
    "upper_bound = q3 + 1.5 * iqr\n",
    "\n",
    "# Filter outliers\n",
    "outliers = df.filter((col(\"Year\") < lower_bound) | (col(\"Year\") > upper_bound))\n",
    "\n",
    "# Show outliers\n",
    "outliers.count()"
   ]
  },
  {
   "cell_type": "code",
   "execution_count": 20,
   "id": "6c1fb9c6",
   "metadata": {},
   "outputs": [
    {
     "name": "stdout",
     "output_type": "stream",
     "text": [
      "+-------------+----------+-----------+----------+--------------------+------------------+---------------+---------------+--------------------+---------------------------+-----------------------------+----+\n",
      "|TransactionID|CustomerID|CustomerDOB|CustGender|        CustLocation|CustAccountBalance|TransactionDate|TransactionTime|TransactionAmountINR|CustAccountBalance_is_valid|TransactionAmountINR_is_valid|Year|\n",
      "+-------------+----------+-----------+----------+--------------------+------------------+---------------+---------------+--------------------+---------------------------+-----------------------------+----+\n",
      "|           T1|  C5841053| 1994-01-10|         F|          JAMSHEDPUR|          17819.05|     2016-08-02|         143207|                25.0|                       true|                         true|1994|\n",
      "|           T3|  C4417068| 1996-11-26|         F|              MUMBAI|          17874.44|     2016-08-02|         142712|               459.0|                       true|                         true|1996|\n",
      "|           T4|  C5342380| 1973-09-14|         F|              MUMBAI|          866503.2|     2016-08-02|         142714|              2060.0|                       true|                         true|1973|\n",
      "|           T5|  C9031234| 1988-03-24|         F|         NAVI MUMBAI|           6714.43|     2016-08-02|         181156|              1762.5|                       true|                         true|1988|\n",
      "|           T6|  C1536588| 1972-10-08|         F|            ITANAGAR|           53609.2|     2016-08-02|         173940|               676.0|                       true|                         true|1972|\n",
      "|           T7|  C7126560| 1992-01-26|         F|              MUMBAI|            973.46|     2016-08-02|         173806|               566.0|                       true|                         true|1992|\n",
      "|           T8|  C1220223| 1982-01-27|         M|              MUMBAI|          95075.54|     2016-08-02|         170537|               148.0|                       true|                         true|1982|\n",
      "|           T9|  C8536061| 1988-04-19|         F|             GURGAON|          14906.96|     2016-08-02|         192825|               833.0|                       true|                         true|1988|\n",
      "|          T10|  C6638934| 1984-06-22|         M|              MUMBAI|           4279.22|     2016-08-02|         192446|              289.11|                       true|                         true|1984|\n",
      "|          T11|  C5430833| 1982-07-22|         M|              MOHALI|          48429.49|     2016-08-02|         204133|               259.0|                       true|                         true|1982|\n",
      "|          T12|  C6939838| 1988-07-07|         M|              GUNTUR|          14613.46|     2016-08-02|         205108|               202.0|                       true|                         true|1988|\n",
      "|          T13|  C6339347| 1978-06-13|         M|           AHMEDABAD|          32274.78|     2016-08-02|         203834|             12300.0|                       true|                         true|1978|\n",
      "|          T14|  C8327851| 1992-01-05|         F|               THANE|          59950.44|     2016-08-01|          84706|                50.0|                       true|                         true|1992|\n",
      "|          T15|  C7917151| 1978-03-24|         M|                PUNE|          10100.84|     2016-08-01|          82253|               338.0|                       true|                         true|1978|\n",
      "|          T18|  C8967349| 1989-07-16|         M|              MUMBAI|           2177.85|     2016-08-01|         124734|                54.0|                       true|                         true|1989|\n",
      "|          T19|  C3732016| 1991-01-11|         M|              MUMBAI|          32816.17|     2016-08-01|         122135|               315.0|                       true|                         true|1991|\n",
      "|          T20|  C8999019| 1985-06-24|         M|                PUNE|           10643.5|     2016-08-01|         152821|               945.0|                       true|                         true|1985|\n",
      "|          T21|  C6121429| 1993-04-20|         M|NO 3 KALYANI NAGA...|           2934.22|     2016-08-01|         152824|                36.0|                       true|                         true|1993|\n",
      "|          T22|  C4511244| 1989-08-31|         F|        SECUNDERABAD|           4470.15|     2016-08-03|         105329|                27.0|                       true|                         true|1989|\n",
      "|          T24|  C5830215| 1986-10-01|         M|             LUCKNOW|          12868.42|     2016-08-03|         125629|               291.0|                       true|                         true|1986|\n",
      "+-------------+----------+-----------+----------+--------------------+------------------+---------------+---------------+--------------------+---------------------------+-----------------------------+----+\n",
      "only showing top 20 rows\n",
      "\n"
     ]
    }
   ],
   "source": [
    "#filtered data with outlier\n",
    "filtered_df = df.filter((col(\"Year\") >= lower_bound) & (col(\"Year\") <= upper_bound))\n",
    "\n",
    "# Show the filtered DataFrame\n",
    "filtered_df.show()"
   ]
  },
  {
   "cell_type": "code",
   "execution_count": 21,
   "id": "c7dbb2b6",
   "metadata": {},
   "outputs": [
    {
     "name": "stdout",
     "output_type": "stream",
     "text": [
      "The Number of Row's is:930928,\n",
      "The Number of Columns is: 12\n"
     ]
    }
   ],
   "source": [
    "#confirm after filtered with outlier\n",
    "row_count = filtered_df.count()\n",
    "column_count = len(filtered_df.columns)\n",
    "print(\"The Number of Row's is:{},\\nThe Number of Columns is: {}\".format(row_count,column_count))"
   ]
  },
  {
   "cell_type": "code",
   "execution_count": 22,
   "id": "fbef3638",
   "metadata": {},
   "outputs": [
    {
     "name": "stdout",
     "output_type": "stream",
     "text": [
      "root\n",
      " |-- TransactionID: string (nullable = true)\n",
      " |-- CustomerID: string (nullable = true)\n",
      " |-- CustomerDOB: date (nullable = true)\n",
      " |-- CustGender: string (nullable = true)\n",
      " |-- CustLocation: string (nullable = true)\n",
      " |-- CustAccountBalance: float (nullable = true)\n",
      " |-- TransactionDate: date (nullable = true)\n",
      " |-- TransactionTime: string (nullable = true)\n",
      " |-- TransactionAmountINR: float (nullable = true)\n",
      " |-- CustAccountBalance_is_valid: boolean (nullable = true)\n",
      " |-- TransactionAmountINR_is_valid: boolean (nullable = true)\n",
      " |-- Year: integer (nullable = true)\n",
      "\n"
     ]
    }
   ],
   "source": [
    "#printing after filtering data\n",
    "filtered_df.printSchema()"
   ]
  },
  {
   "cell_type": "code",
   "execution_count": 23,
   "id": "605b4c4c",
   "metadata": {},
   "outputs": [
    {
     "name": "stdout",
     "output_type": "stream",
     "text": [
      "Maximum Year: 2004\n"
     ]
    }
   ],
   "source": [
    "#maximum value in year column\n",
    "max_year = filtered_df.select(max(col(\"Year\"))).collect()[0][0]\n",
    "print(\"Maximum Year:\", max_year)"
   ]
  },
  {
   "cell_type": "code",
   "execution_count": 24,
   "id": "f101ba89",
   "metadata": {},
   "outputs": [
    {
     "name": "stdout",
     "output_type": "stream",
     "text": [
      "Minimum Year: 1969\n"
     ]
    }
   ],
   "source": [
    "#minimum value in year column\n",
    "min_year = filtered_df.select(min(col(\"Year\"))).collect()[0][0]\n",
    "print(\"Minimum Year:\", min_year)"
   ]
  },
  {
   "cell_type": "code",
   "execution_count": 25,
   "id": "26ace51c",
   "metadata": {},
   "outputs": [
    {
     "name": "stdout",
     "output_type": "stream",
     "text": [
      "Maximum Transaction Date: 2016-10-21\n"
     ]
    }
   ],
   "source": [
    "#finding the maximum date or last date of transaction\n",
    "max_date = filtered_df.select(max(col(\"TransactionDate\"))).collect()[0][0]\n",
    "print(\"Maximum Transaction Date:\", max_date)"
   ]
  },
  {
   "cell_type": "code",
   "execution_count": 26,
   "id": "cd03e5a7",
   "metadata": {},
   "outputs": [],
   "source": [
    "#write a function for adding age column in data \n",
    "def add_age_column(df, dob_col, reference_date_str):\n",
    "    \"\"\"\n",
    "    Add a new column 'ageofcustomer' to the DataFrame, calculating age from DOB to a reference date.\n",
    "    \n",
    "    :param df: DataFrame with a date of birth column\n",
    "    :param dob_col: Name of the date of birth column\n",
    "    :param reference_date_str: Reference date in 'dd-MM-yyyy' format\n",
    "    :return: DataFrame with the new 'ageofcustomer' column\n",
    "    \"\"\"\n",
    "    # Convert the date of birth column from string to date format\n",
    "    df = df.withColumn(dob_col, to_date(col(dob_col), \"dd-MM-yyyy\"))\n",
    "    \n",
    "    # Define the reference date\n",
    "    reference_date = to_date(lit(reference_date_str), \"dd-MM-yyyy\")\n",
    "    \n",
    "    # Calculate the age\n",
    "    df = df.withColumn(\"CustomerAge\",\n",
    "                       floor(datediff(reference_date, col(dob_col)) / 365.25).cast(IntegerType()))\n",
    "    \n",
    "    return df\n",
    "\n",
    "# Add age column\n",
    "reference_date_str = \"21-10-2016\"\n",
    "df_with_age = add_age_column(filtered_df, \"CustomerDOB\", reference_date_str)\n",
    "\n",
    "# Show the DataFrame with the new 'ageofcustomer' column"
   ]
  },
  {
   "cell_type": "code",
   "execution_count": 27,
   "id": "1d2fbed4",
   "metadata": {},
   "outputs": [
    {
     "name": "stdout",
     "output_type": "stream",
     "text": [
      "+-----------+\n",
      "|CustomerAge|\n",
      "+-----------+\n",
      "|         22|\n",
      "|         19|\n",
      "|         43|\n",
      "|         28|\n",
      "|         44|\n",
      "|         24|\n",
      "|         34|\n",
      "|         28|\n",
      "|         32|\n",
      "|         34|\n",
      "|         28|\n",
      "|         38|\n",
      "|         24|\n",
      "|         38|\n",
      "|         27|\n",
      "|         25|\n",
      "|         31|\n",
      "|         23|\n",
      "|         27|\n",
      "|         30|\n",
      "+-----------+\n",
      "only showing top 20 rows\n",
      "\n"
     ]
    }
   ],
   "source": [
    "#display only age column\n",
    "df_with_age.select(\"CustomerAge\").show()"
   ]
  },
  {
   "cell_type": "code",
   "execution_count": 28,
   "id": "2aedeb5c",
   "metadata": {},
   "outputs": [
    {
     "name": "stdout",
     "output_type": "stream",
     "text": [
      "root\n",
      " |-- TransactionID: string (nullable = true)\n",
      " |-- CustomerID: string (nullable = true)\n",
      " |-- CustomerDOB: date (nullable = true)\n",
      " |-- CustGender: string (nullable = true)\n",
      " |-- CustLocation: string (nullable = true)\n",
      " |-- CustAccountBalance: float (nullable = true)\n",
      " |-- TransactionDate: date (nullable = true)\n",
      " |-- TransactionTime: string (nullable = true)\n",
      " |-- TransactionAmountINR: float (nullable = true)\n",
      " |-- CustAccountBalance_is_valid: boolean (nullable = true)\n",
      " |-- TransactionAmountINR_is_valid: boolean (nullable = true)\n",
      " |-- Year: integer (nullable = true)\n",
      " |-- CustomerAge: integer (nullable = true)\n",
      "\n"
     ]
    }
   ],
   "source": [
    "#confirming after adding age column\n",
    "df_with_age.printSchema()"
   ]
  },
  {
   "cell_type": "code",
   "execution_count": 29,
   "id": "47d729e3",
   "metadata": {},
   "outputs": [
    {
     "data": {
      "text/plain": [
       "929410"
      ]
     },
     "execution_count": 29,
     "metadata": {},
     "output_type": "execute_result"
    }
   ],
   "source": [
    "#countinh the values which are greater than 18\n",
    "df_with_age = df_with_age.filter((df_with_age[\"CustomerAge\"] >= 18))\n",
    "df_with_age.count()"
   ]
  },
  {
   "cell_type": "code",
   "execution_count": 30,
   "id": "bef60c39",
   "metadata": {},
   "outputs": [
    {
     "data": {
      "text/plain": [
       "11877"
      ]
     },
     "execution_count": 30,
     "metadata": {},
     "output_type": "execute_result"
    }
   ],
   "source": [
    "#finding outlier in age column \n",
    "quantiles = df_with_age.approxQuantile(\"CustomerAge\", [0.25, 0.75], 0.0)\n",
    "q1, q3 = quantiles[0], quantiles[1]\n",
    "\n",
    "# Step 2: Compute IQR\n",
    "iqr = q3 - q1\n",
    "\n",
    "# Step 3: Determine the bounds for outliers\n",
    "lower_bound = q1 - 1.5 * iqr\n",
    "upper_bound = q3 + 1.5 * iqr\n",
    "\n",
    "# Step 4: Filter outliers\n",
    "outliers = df_with_age.filter((col(\"CustomerAge\") < lower_bound) | (col(\"CustomerAge\") > upper_bound))\n",
    "\n",
    "# Show the outliers\n",
    "outliers.count()\n"
   ]
  },
  {
   "cell_type": "code",
   "execution_count": 31,
   "id": "75ec7180",
   "metadata": {},
   "outputs": [
    {
     "name": "stdout",
     "output_type": "stream",
     "text": [
      "+----------+-----------+-----------+\n",
      "|CustomerID|CustomerDOB|CustomerAge|\n",
      "+----------+-----------+-----------+\n",
      "|  C5841053| 1994-01-10|         22|\n",
      "|  C4417068| 1996-11-26|         19|\n",
      "|  C5342380| 1973-09-14|         43|\n",
      "|  C9031234| 1988-03-24|         28|\n",
      "|  C1536588| 1972-10-08|         44|\n",
      "|  C7126560| 1992-01-26|         24|\n",
      "|  C1220223| 1982-01-27|         34|\n",
      "|  C8536061| 1988-04-19|         28|\n",
      "|  C6638934| 1984-06-22|         32|\n",
      "|  C5430833| 1982-07-22|         34|\n",
      "|  C6939838| 1988-07-07|         28|\n",
      "|  C6339347| 1978-06-13|         38|\n",
      "|  C8327851| 1992-01-05|         24|\n",
      "|  C7917151| 1978-03-24|         38|\n",
      "|  C8967349| 1989-07-16|         27|\n",
      "|  C3732016| 1991-01-11|         25|\n",
      "|  C8999019| 1985-06-24|         31|\n",
      "|  C6121429| 1993-04-20|         23|\n",
      "|  C4511244| 1989-08-31|         27|\n",
      "|  C5830215| 1986-10-01|         30|\n",
      "+----------+-----------+-----------+\n",
      "only showing top 20 rows\n",
      "\n"
     ]
    }
   ],
   "source": [
    "#filtered with outlier for age column\n",
    "df_filter= df_with_age.filter((col(\"CustomerAge\") >= lower_bound) & (col(\"CustomerAge\") <= upper_bound))\n",
    "\n",
    "# Show the filtered DataFrame\n",
    "df_filter.select('CustomerID', 'CustomerDOB', 'CustomerAge').show()"
   ]
  },
  {
   "cell_type": "code",
   "execution_count": 32,
   "id": "b0ff58d9",
   "metadata": {},
   "outputs": [
    {
     "name": "stdout",
     "output_type": "stream",
     "text": [
      "The Number of Row's is:917533,\n",
      "The Number of Columns is: 13\n"
     ]
    }
   ],
   "source": [
    "#confirming after filtered\n",
    "row_count = df_filter.count()\n",
    "column_count = len(df_filter.columns)\n",
    "print(\"The Number of Row's is:{},\\nThe Number of Columns is: {}\".format(row_count,column_count))"
   ]
  },
  {
   "cell_type": "code",
   "execution_count": 33,
   "id": "7f8f5308",
   "metadata": {},
   "outputs": [
    {
     "data": {
      "text/plain": [
       "['TransactionID',\n",
       " 'CustomerID',\n",
       " 'CustomerDOB',\n",
       " 'CustGender',\n",
       " 'CustLocation',\n",
       " 'CustAccountBalance',\n",
       " 'TransactionDate',\n",
       " 'TransactionTime',\n",
       " 'TransactionAmountINR',\n",
       " 'CustAccountBalance_is_valid',\n",
       " 'TransactionAmountINR_is_valid',\n",
       " 'Year',\n",
       " 'CustomerAge']"
      ]
     },
     "execution_count": 33,
     "metadata": {},
     "output_type": "execute_result"
    }
   ],
   "source": [
    "#printing all colmns name\n",
    "df_filter.columns"
   ]
  },
  {
   "cell_type": "code",
   "execution_count": 34,
   "id": "ee8a1467",
   "metadata": {},
   "outputs": [
    {
     "name": "stdout",
     "output_type": "stream",
     "text": [
      "+-------------+----------+-----------+----------+------------+------------------+---------------+---------------+--------------------+---------------------------+-----------------------------+----+-----------+-----+\n",
      "|TransactionID|CustomerID|CustomerDOB|CustGender|CustLocation|CustAccountBalance|TransactionDate|TransactionTime|TransactionAmountINR|CustAccountBalance_is_valid|TransactionAmountINR_is_valid|Year|CustomerAge|count|\n",
      "+-------------+----------+-----------+----------+------------+------------------+---------------+---------------+--------------------+---------------------------+-----------------------------+----+-----------+-----+\n",
      "+-------------+----------+-----------+----------+------------+------------------+---------------+---------------+--------------------+---------------------------+-----------------------------+----+-----------+-----+\n",
      "\n"
     ]
    }
   ],
   "source": [
    "#counting if any duplicate row is present or not\n",
    "duplicate_counts = df_filter.groupBy(df_filter.columns).count()\n",
    "\n",
    "# Filter rows where count is greater than 1 (indicating duplicates)\n",
    "duplicates = duplicate_counts.filter(col(\"count\") > 1)\n",
    "\n",
    "# Show duplicate rows\n",
    "duplicates.show()"
   ]
  },
  {
   "cell_type": "code",
   "execution_count": 35,
   "id": "b12a8c38",
   "metadata": {},
   "outputs": [],
   "source": [
    "# Dataframe with drop unnecessary columns\n",
    "df_final = df_filter.drop(\"CustomerDOB\",\"TransactionTime\",\"Year\",\"CustAccountBalance_is_valid\",\"TransactionAmountINR_is_valid\")"
   ]
  },
  {
   "cell_type": "code",
   "execution_count": 36,
   "id": "79b45c7e",
   "metadata": {},
   "outputs": [
    {
     "name": "stdout",
     "output_type": "stream",
     "text": [
      "+-------------+----------+----------+--------------------+------------------+---------------+--------------------+-----------+\n",
      "|TransactionID|CustomerID|CustGender|        CustLocation|CustAccountBalance|TransactionDate|TransactionAmountINR|CustomerAge|\n",
      "+-------------+----------+----------+--------------------+------------------+---------------+--------------------+-----------+\n",
      "|           T1|  C5841053|         F|          JAMSHEDPUR|          17819.05|     2016-08-02|                25.0|         22|\n",
      "|           T3|  C4417068|         F|              MUMBAI|          17874.44|     2016-08-02|               459.0|         19|\n",
      "|           T4|  C5342380|         F|              MUMBAI|          866503.2|     2016-08-02|              2060.0|         43|\n",
      "|           T5|  C9031234|         F|         NAVI MUMBAI|           6714.43|     2016-08-02|              1762.5|         28|\n",
      "|           T6|  C1536588|         F|            ITANAGAR|           53609.2|     2016-08-02|               676.0|         44|\n",
      "|           T7|  C7126560|         F|              MUMBAI|            973.46|     2016-08-02|               566.0|         24|\n",
      "|           T8|  C1220223|         M|              MUMBAI|          95075.54|     2016-08-02|               148.0|         34|\n",
      "|           T9|  C8536061|         F|             GURGAON|          14906.96|     2016-08-02|               833.0|         28|\n",
      "|          T10|  C6638934|         M|              MUMBAI|           4279.22|     2016-08-02|              289.11|         32|\n",
      "|          T11|  C5430833|         M|              MOHALI|          48429.49|     2016-08-02|               259.0|         34|\n",
      "|          T12|  C6939838|         M|              GUNTUR|          14613.46|     2016-08-02|               202.0|         28|\n",
      "|          T13|  C6339347|         M|           AHMEDABAD|          32274.78|     2016-08-02|             12300.0|         38|\n",
      "|          T14|  C8327851|         F|               THANE|          59950.44|     2016-08-01|                50.0|         24|\n",
      "|          T15|  C7917151|         M|                PUNE|          10100.84|     2016-08-01|               338.0|         38|\n",
      "|          T18|  C8967349|         M|              MUMBAI|           2177.85|     2016-08-01|                54.0|         27|\n",
      "|          T19|  C3732016|         M|              MUMBAI|          32816.17|     2016-08-01|               315.0|         25|\n",
      "|          T20|  C8999019|         M|                PUNE|           10643.5|     2016-08-01|               945.0|         31|\n",
      "|          T21|  C6121429|         M|NO 3 KALYANI NAGA...|           2934.22|     2016-08-01|                36.0|         23|\n",
      "|          T22|  C4511244|         F|        SECUNDERABAD|           4470.15|     2016-08-03|                27.0|         27|\n",
      "|          T24|  C5830215|         M|             LUCKNOW|          12868.42|     2016-08-03|               291.0|         30|\n",
      "+-------------+----------+----------+--------------------+------------------+---------------+--------------------+-----------+\n",
      "only showing top 20 rows\n",
      "\n"
     ]
    }
   ],
   "source": [
    "#printing dataframe\n",
    "df_final.show()"
   ]
  },
  {
   "cell_type": "code",
   "execution_count": 37,
   "id": "3394d8f7",
   "metadata": {},
   "outputs": [
    {
     "name": "stdout",
     "output_type": "stream",
     "text": [
      "The Number of Row's is:917533,\n",
      "The Number of Columns is: 8\n",
      "root\n",
      " |-- TransactionID: string (nullable = true)\n",
      " |-- CustomerID: string (nullable = true)\n",
      " |-- CustGender: string (nullable = true)\n",
      " |-- CustLocation: string (nullable = true)\n",
      " |-- CustAccountBalance: float (nullable = true)\n",
      " |-- TransactionDate: date (nullable = true)\n",
      " |-- TransactionAmountINR: float (nullable = true)\n",
      " |-- CustomerAge: integer (nullable = true)\n",
      "\n"
     ]
    }
   ],
   "source": [
    "#confirming after droping the unnecessary columns\n",
    "row_count = df_final.count()\n",
    "column_count = len(df_final.columns)\n",
    "print(\"The Number of Row's is:{},\\nThe Number of Columns is: {}\".format(row_count,column_count))\n",
    "df_final.printSchema()"
   ]
  },
  {
   "cell_type": "code",
   "execution_count": 38,
   "id": "30aaed25",
   "metadata": {},
   "outputs": [
    {
     "name": "stdout",
     "output_type": "stream",
     "text": [
      "+-------------+-----+\n",
      "|TransactionID|count|\n",
      "+-------------+-----+\n",
      "|         T352|    1|\n",
      "|         T590|    1|\n",
      "|         T929|    1|\n",
      "|         T947|    1|\n",
      "|        T1118|    1|\n",
      "|        T1401|    1|\n",
      "|        T1508|    1|\n",
      "|        T1767|    1|\n",
      "|        T1872|    1|\n",
      "|        T2345|    1|\n",
      "|        T2463|    1|\n",
      "|        T2837|    1|\n",
      "|        T2947|    1|\n",
      "|        T3091|    1|\n",
      "|        T3230|    1|\n",
      "|        T3271|    1|\n",
      "|        T3337|    1|\n",
      "|        T3396|    1|\n",
      "|        T4381|    1|\n",
      "|        T4418|    1|\n",
      "+-------------+-----+\n",
      "only showing top 20 rows\n",
      "\n",
      "+----------+-----+\n",
      "|CustomerID|count|\n",
      "+----------+-----+\n",
      "|  C8732711|    1|\n",
      "|  C6421261|    2|\n",
      "|  C2939112|    2|\n",
      "|  C8741166|    1|\n",
      "|  C4440931|    1|\n",
      "|  C4029960|    1|\n",
      "|  C7817677|    4|\n",
      "|  C4240562|    1|\n",
      "|  C2221420|    1|\n",
      "|  C8524541|    1|\n",
      "|  C5638051|    2|\n",
      "|  C2331867|    1|\n",
      "|  C5534211|    1|\n",
      "|  C4940219|    1|\n",
      "|  C2230276|    1|\n",
      "|  C4341556|    1|\n",
      "|  C7283217|    1|\n",
      "|  C3825339|    1|\n",
      "|  C4138928|    1|\n",
      "|  C5997044|    1|\n",
      "+----------+-----+\n",
      "only showing top 20 rows\n",
      "\n",
      "+----------+------+\n",
      "|CustGender| count|\n",
      "+----------+------+\n",
      "|         F|253803|\n",
      "|         M|663730|\n",
      "+----------+------+\n",
      "\n",
      "+--------------------+-----+\n",
      "|        CustLocation|count|\n",
      "+--------------------+-----+\n",
      "|             GWALIOR|  880|\n",
      "|      UTTAR DINAJPUR|   62|\n",
      "|             SANGRUR|  348|\n",
      "|  ACADEMY SAMASTIPUR|    5|\n",
      "|NO 3 NR LALLAN HO...|   57|\n",
      "|ELPHINSTONE W MUMBAI|   12|\n",
      "|             SHIMOGA|  114|\n",
      "|          FLOOR PUNE|    2|\n",
      "|           TIRUVALLA|    7|\n",
      "|        SARAN CHAPRA|    3|\n",
      "|             MOHANIA|    2|\n",
      "|              TEEKOY|   10|\n",
      "|CUMBALLA HILL MUMBAI|    2|\n",
      "|            KANUBARI|   24|\n",
      "|          NALAPPURAM|    5|\n",
      "|B/H ATM UNION BAN...|    5|\n",
      "|  TIRUPATI NGR THANE|    2|\n",
      "|            K K DIST|   10|\n",
      "|              SUBBAL|    3|\n",
      "| BHANDUP WEST MUMBAI|    8|\n",
      "+--------------------+-----+\n",
      "only showing top 20 rows\n",
      "\n"
     ]
    }
   ],
   "source": [
    "# Value Counts for Categorical Features\n",
    "categorical_columns = [col_name for col_name, dtype in df_final.dtypes if dtype == 'string']\n",
    "\n",
    "for column in categorical_columns:\n",
    "    df_final.groupBy(column).count().show()"
   ]
  },
  {
   "cell_type": "code",
   "execution_count": 39,
   "id": "f39f56f8",
   "metadata": {},
   "outputs": [],
   "source": [
    "# Group by CustLocation and calculate the total transaction amount rounded to 2 decimal places\n",
    "Totalamount_location_wise = df_final.groupBy(\"CustLocation\") \\\n",
    "    .agg(round(spark_sum(\"TransactionAmountINR\"), 2).alias(\"TotalTransactionAmount\"))\n",
    "\n",
    "# Convert to Pandas DataFrame for plotting\n",
    "Totalamount_location_wise_pd = Totalamount_location_wise.toPandas()\n",
    "Totalamount_location_wise_pd = Totalamount_location_wise_pd.sort_values(by=\"TotalTransactionAmount\", ascending=False).head(20)"
   ]
  },
  {
   "cell_type": "code",
   "execution_count": 40,
   "id": "2721c5a2",
   "metadata": {},
   "outputs": [
    {
     "data": {
      "text/html": [
       "<div>\n",
       "<style scoped>\n",
       "    .dataframe tbody tr th:only-of-type {\n",
       "        vertical-align: middle;\n",
       "    }\n",
       "\n",
       "    .dataframe tbody tr th {\n",
       "        vertical-align: top;\n",
       "    }\n",
       "\n",
       "    .dataframe thead th {\n",
       "        text-align: right;\n",
       "    }\n",
       "</style>\n",
       "<table border=\"1\" class=\"dataframe\">\n",
       "  <thead>\n",
       "    <tr style=\"text-align: right;\">\n",
       "      <th></th>\n",
       "      <th>CustLocation</th>\n",
       "      <th>TotalTransactionAmount</th>\n",
       "    </tr>\n",
       "  </thead>\n",
       "  <tbody>\n",
       "    <tr>\n",
       "      <th>7694</th>\n",
       "      <td>MUMBAI</td>\n",
       "      <td>1.377993e+08</td>\n",
       "    </tr>\n",
       "    <tr>\n",
       "      <th>443</th>\n",
       "      <td>NEW DELHI</td>\n",
       "      <td>1.067315e+08</td>\n",
       "    </tr>\n",
       "    <tr>\n",
       "      <th>2203</th>\n",
       "      <td>BANGALORE</td>\n",
       "      <td>9.128240e+07</td>\n",
       "    </tr>\n",
       "    <tr>\n",
       "      <th>6148</th>\n",
       "      <td>GURGAON</td>\n",
       "      <td>8.778079e+07</td>\n",
       "    </tr>\n",
       "    <tr>\n",
       "      <th>2202</th>\n",
       "      <td>DELHI</td>\n",
       "      <td>7.991631e+07</td>\n",
       "    </tr>\n",
       "  </tbody>\n",
       "</table>\n",
       "</div>"
      ],
      "text/plain": [
       "     CustLocation  TotalTransactionAmount\n",
       "7694       MUMBAI            1.377993e+08\n",
       "443     NEW DELHI            1.067315e+08\n",
       "2203    BANGALORE            9.128240e+07\n",
       "6148      GURGAON            8.778079e+07\n",
       "2202        DELHI            7.991631e+07"
      ]
     },
     "execution_count": 40,
     "metadata": {},
     "output_type": "execute_result"
    }
   ],
   "source": [
    "#showing group by operation on columns\n",
    "Totalamount_location_wise_pd.head()"
   ]
  },
  {
   "cell_type": "code",
   "execution_count": 41,
   "id": "69e139e3",
   "metadata": {},
   "outputs": [
    {
     "data": {
      "text/plain": [
       "7733"
      ]
     },
     "execution_count": 41,
     "metadata": {},
     "output_type": "execute_result"
    }
   ],
   "source": [
    "# unique city values\n",
    "unique_city = df_final.select(\"CustLocation\").distinct()\n",
    "unique_city.count()"
   ]
  },
  {
   "cell_type": "code",
   "execution_count": 42,
   "id": "49dd7b9a",
   "metadata": {},
   "outputs": [],
   "source": [
    "# Step 1: Group by CustLocation and CustomerID, then calculate the total transaction amount\n",
    "location_customer_transaction = df_final.groupBy(\"CustLocation\", \"CustomerID\") \\\n",
    "    .agg(spark_sum(\"TransactionAmountINR\").alias(\"TotalTransactionAmount\"))\n",
    "\n",
    "# Step 2: Use a window function to rank the customers by transaction amount within each location\n",
    "window_spec = Window.partitionBy(\"CustLocation\").orderBy(col(\"TotalTransactionAmount\").desc())\n",
    "location_customer_transaction = location_customer_transaction.withColumn(\"rank\", rank().over(window_spec))\n",
    "\n",
    "# Step 3: Filter to get the top 3 customers in each location\n",
    "top_3_customers_per_location = location_customer_transaction.filter(col(\"rank\") <= 3)\n",
    "\n",
    "# Step 4: Convert the resulting DataFrame to Pandas for plotting\n",
    "top_3_customers_per_location_pd = top_3_customers_per_location.toPandas()"
   ]
  },
  {
   "cell_type": "code",
   "execution_count": 43,
   "id": "26052a35",
   "metadata": {},
   "outputs": [
    {
     "data": {
      "text/html": [
       "<div>\n",
       "<style scoped>\n",
       "    .dataframe tbody tr th:only-of-type {\n",
       "        vertical-align: middle;\n",
       "    }\n",
       "\n",
       "    .dataframe tbody tr th {\n",
       "        vertical-align: top;\n",
       "    }\n",
       "\n",
       "    .dataframe thead th {\n",
       "        text-align: right;\n",
       "    }\n",
       "</style>\n",
       "<table border=\"1\" class=\"dataframe\">\n",
       "  <thead>\n",
       "    <tr style=\"text-align: right;\">\n",
       "      <th></th>\n",
       "      <th>CustLocation</th>\n",
       "      <th>CustomerID</th>\n",
       "      <th>TotalTransactionAmount</th>\n",
       "      <th>rank</th>\n",
       "    </tr>\n",
       "  </thead>\n",
       "  <tbody>\n",
       "    <tr>\n",
       "      <th>0</th>\n",
       "      <td>ACADEMY SAMASTIPUR</td>\n",
       "      <td>C5314885</td>\n",
       "      <td>569.0</td>\n",
       "      <td>1</td>\n",
       "    </tr>\n",
       "    <tr>\n",
       "      <th>1</th>\n",
       "      <td>ACADEMY SAMASTIPUR</td>\n",
       "      <td>C8814860</td>\n",
       "      <td>200.0</td>\n",
       "      <td>2</td>\n",
       "    </tr>\n",
       "    <tr>\n",
       "      <th>2</th>\n",
       "      <td>ACADEMY SAMASTIPUR</td>\n",
       "      <td>C8014864</td>\n",
       "      <td>120.0</td>\n",
       "      <td>3</td>\n",
       "    </tr>\n",
       "    <tr>\n",
       "      <th>3</th>\n",
       "      <td>ALIPURDUAR</td>\n",
       "      <td>C2819634</td>\n",
       "      <td>6376.5</td>\n",
       "      <td>1</td>\n",
       "    </tr>\n",
       "    <tr>\n",
       "      <th>4</th>\n",
       "      <td>ALIPURDUAR</td>\n",
       "      <td>C2219681</td>\n",
       "      <td>66.0</td>\n",
       "      <td>2</td>\n",
       "    </tr>\n",
       "  </tbody>\n",
       "</table>\n",
       "</div>"
      ],
      "text/plain": [
       "         CustLocation CustomerID  TotalTransactionAmount  rank\n",
       "0  ACADEMY SAMASTIPUR   C5314885                   569.0     1\n",
       "1  ACADEMY SAMASTIPUR   C8814860                   200.0     2\n",
       "2  ACADEMY SAMASTIPUR   C8014864                   120.0     3\n",
       "3          ALIPURDUAR   C2819634                  6376.5     1\n",
       "4          ALIPURDUAR   C2219681                    66.0     2"
      ]
     },
     "execution_count": 43,
     "metadata": {},
     "output_type": "execute_result"
    }
   ],
   "source": [
    "#find top 3 customer based \n",
    "top_3_customers_per_location_pd.head()"
   ]
  },
  {
   "cell_type": "code",
   "execution_count": 44,
   "id": "881309a2",
   "metadata": {},
   "outputs": [
    {
     "name": "stdout",
     "output_type": "stream",
     "text": [
      "+-------------+----------+----------+-----------------------+------------------+---------------+--------------------+-----------+-------------+\n",
      "|TransactionID|CustomerID|CustGender|CustLocation           |CustAccountBalance|TransactionDate|TransactionAmountINR|CustomerAge|LastPart     |\n",
      "+-------------+----------+----------+-----------------------+------------------+---------------+--------------------+-----------+-------------+\n",
      "|T1           |C5841053  |F         |JAMSHEDPUR             |17819.05          |2016-08-02     |25.0                |22         |JAMSHEDPUR   |\n",
      "|T3           |C4417068  |F         |MUMBAI                 |17874.44          |2016-08-02     |459.0               |19         |MUMBAI       |\n",
      "|T4           |C5342380  |F         |MUMBAI                 |866503.2          |2016-08-02     |2060.0              |43         |MUMBAI       |\n",
      "|T5           |C9031234  |F         |NAVI MUMBAI            |6714.43           |2016-08-02     |1762.5              |28         |MUMBAI       |\n",
      "|T6           |C1536588  |F         |ITANAGAR               |53609.2           |2016-08-02     |676.0               |44         |ITANAGAR     |\n",
      "|T7           |C7126560  |F         |MUMBAI                 |973.46            |2016-08-02     |566.0               |24         |MUMBAI       |\n",
      "|T8           |C1220223  |M         |MUMBAI                 |95075.54          |2016-08-02     |148.0               |34         |MUMBAI       |\n",
      "|T9           |C8536061  |F         |GURGAON                |14906.96          |2016-08-02     |833.0               |28         |GURGAON      |\n",
      "|T10          |C6638934  |M         |MUMBAI                 |4279.22           |2016-08-02     |289.11              |32         |MUMBAI       |\n",
      "|T11          |C5430833  |M         |MOHALI                 |48429.49          |2016-08-02     |259.0               |34         |MOHALI       |\n",
      "|T12          |C6939838  |M         |GUNTUR                 |14613.46          |2016-08-02     |202.0               |28         |GUNTUR       |\n",
      "|T13          |C6339347  |M         |AHMEDABAD              |32274.78          |2016-08-02     |12300.0             |38         |AHMEDABAD    |\n",
      "|T14          |C8327851  |F         |THANE                  |59950.44          |2016-08-01     |50.0                |24         |THANE        |\n",
      "|T15          |C7917151  |M         |PUNE                   |10100.84          |2016-08-01     |338.0               |38         |PUNE         |\n",
      "|T18          |C8967349  |M         |MUMBAI                 |2177.85           |2016-08-01     |54.0                |27         |MUMBAI       |\n",
      "|T19          |C3732016  |M         |MUMBAI                 |32816.17          |2016-08-01     |315.0               |25         |MUMBAI       |\n",
      "|T20          |C8999019  |M         |PUNE                   |10643.5           |2016-08-01     |945.0               |31         |PUNE         |\n",
      "|T21          |C6121429  |M         |NO 3 KALYANI NAGAR PUNE|2934.22           |2016-08-01     |36.0                |23         |PUNE         |\n",
      "|T22          |C4511244  |F         |SECUNDERABAD           |4470.15           |2016-08-03     |27.0                |27         |SECUNDERABAD |\n",
      "|T24          |C5830215  |M         |LUCKNOW                |12868.42          |2016-08-03     |291.0               |30         |LUCKNOW      |\n",
      "|T25          |C1219943  |F         |GURGAON                |2951.1            |2016-08-03     |1892.0              |25         |GURGAON      |\n",
      "|T26          |C5521085  |M         |GURGAON                |3297.74           |2016-08-03     |242.0               |23         |GURGAON      |\n",
      "|T27          |C5430368  |M         |DELHI                  |285.76            |2016-08-03     |5500.0              |30         |DELHI        |\n",
      "|T28          |C2416848  |M         |CHENNAI                |20986.66          |2016-08-03     |2235.0              |23         |CHENNAI      |\n",
      "|T32          |C5652115  |F         |GHAZIABAD              |6384.54           |2016-08-03     |10.0                |25         |GHAZIABAD    |\n",
      "|T33          |C1889073  |F         |BANGALORE              |57791.69          |2016-08-03     |760.0               |31         |BANGALORE    |\n",
      "|T34          |C2043652  |F         |MUMBAI                 |123781.9          |2016-08-03     |6800.0              |37         |MUMBAI       |\n",
      "|T35          |C7017047  |M         |GURGAON                |39.73             |2016-08-03     |110.0               |39         |GURGAON      |\n",
      "|T37          |C4320949  |F         |CHENNAI                |213.06            |2016-08-03     |1081.0              |31         |CHENNAI      |\n",
      "|T38          |C2331533  |F         |GUWAHATI               |44627.73          |2016-08-03     |2999.0              |18         |GUWAHATI     |\n",
      "|T39          |C5338459  |M         |DHANBAD                |113238.74         |2016-08-03     |1350.0              |32         |DHANBAD      |\n",
      "|T40          |C5120181  |M         |MUKTSAR                |2477.42           |2016-08-03     |683.0               |31         |MUKTSAR      |\n",
      "|T41          |C5838935  |M         |SOCORRO                |58406.7           |2016-08-03     |50.0                |33         |SOCORRO      |\n",
      "|T42          |C7923455  |M         |ANDHERI (EAST) MUMBAI  |5810.82           |2016-08-03     |12.0                |24         |MUMBAI       |\n",
      "|T43          |C2733968  |F         |AURANGABAD             |12545.18          |2016-08-03     |179.0               |23         |AURANGABAD   |\n",
      "|T44          |C2023055  |M         |MUMBAI                 |10630.88          |2016-08-03     |421.8               |23         |MUMBAI       |\n",
      "|T45          |C1289591  |M         |KOTA                   |282455.62         |2016-08-03     |900.0               |25         |KOTA         |\n",
      "|T46          |C3526781  |M         |CHENNAI                |1589.43           |2016-08-03     |90.0                |35         |CHENNAI      |\n",
      "|T47          |C8934588  |M         |JAIPUR                 |5055.18           |2016-08-03     |13846.0             |34         |JAIPUR       |\n",
      "|T48          |C7542443  |M         |K V RANGAREDDY         |25222.91          |2016-08-03     |59.47               |26         |RANGAREDDY   |\n",
      "|T49          |C6427687  |M         |MUZAFFARNAGAR          |2162.36           |2016-08-02     |55.0                |35         |MUZAFFARNAGAR|\n",
      "|T50          |C5242591  |M         |BURDWAN                |22525.66          |2016-08-05     |27990.0             |33         |BURDWAN      |\n",
      "|T51          |C8624922  |F         |GURGAON                |298357.4          |2016-08-05     |1388.0              |34         |GURGAON      |\n",
      "|T53          |C3815912  |M         |MUMBAI                 |2058.42           |2016-08-05     |519.0               |21         |MUMBAI       |\n",
      "|T54          |C8837044  |F         |LUDHIANA               |8842.13           |2016-08-05     |100.0               |27         |LUDHIANA     |\n",
      "|T55          |C4237628  |M         |NOIDA                  |196.83            |2016-08-05     |150.0               |29         |NOIDA        |\n",
      "|T56          |C1516160  |M         |GURGAON                |17070.89          |2016-08-05     |107.0               |26         |GURGAON      |\n",
      "|T57          |C4415955  |M         |AGRA                   |2502.74           |2016-08-05     |1008.63             |21         |AGRA         |\n",
      "|T58          |C3932235  |M         |SHAHJAHANPUR           |91.66             |2016-08-05     |110.0               |25         |SHAHJAHANPUR |\n",
      "|T59          |C5623837  |M         |DELHI                  |947.23            |2016-08-05     |726.0               |32         |DELHI        |\n",
      "+-------------+----------+----------+-----------------------+------------------+---------------+--------------------+-----------+-------------+\n",
      "only showing top 50 rows\n",
      "\n"
     ]
    }
   ],
   "source": [
    "# Normalize spaces by replacing any whitespace characters with a single space\n",
    "df_final = df_final.withColumn('CustLocation', regexp_replace(trim(col('CustLocation')), r'\\s+', ' '))\n",
    "\n",
    "# Extract the last word from the CustLocation column and create a new column `LastPart`\n",
    "df_final = df_final.withColumn('LastPart', split(col('CustLocation'), ' ').getItem(size(split(col('CustLocation'), ' ')) - 1))\n",
    "\n",
    "# Show the result (including the new Custlocation column)\n",
    "df_final.select('*').show(50, truncate=False)\n"
   ]
  },
  {
   "cell_type": "code",
   "execution_count": 45,
   "id": "a8c7e023",
   "metadata": {},
   "outputs": [
    {
     "name": "stdout",
     "output_type": "stream",
     "text": [
      "root\n",
      " |-- TransactionID: string (nullable = true)\n",
      " |-- CustomerID: string (nullable = true)\n",
      " |-- CustGender: string (nullable = true)\n",
      " |-- CustLocation: string (nullable = true)\n",
      " |-- CustAccountBalance: float (nullable = true)\n",
      " |-- TransactionDate: date (nullable = true)\n",
      " |-- TransactionAmountINR: float (nullable = true)\n",
      " |-- CustomerAge: integer (nullable = true)\n",
      " |-- LastPart: string (nullable = true)\n",
      "\n"
     ]
    }
   ],
   "source": [
    "#confirm after adding the column with only single city name\n",
    "df_final.printSchema()"
   ]
  },
  {
   "cell_type": "code",
   "execution_count": 46,
   "id": "58b79040",
   "metadata": {},
   "outputs": [
    {
     "data": {
      "text/plain": [
       "7703"
      ]
     },
     "execution_count": 46,
     "metadata": {},
     "output_type": "execute_result"
    }
   ],
   "source": [
    "#counting the unique value previous column\n",
    "unique = df_final.select(\"CustLocation\").distinct()\n",
    "unique.count()"
   ]
  },
  {
   "cell_type": "code",
   "execution_count": 58,
   "id": "32ea954a",
   "metadata": {},
   "outputs": [
    {
     "name": "stdout",
     "output_type": "stream",
     "text": [
      "root\n",
      " |-- TransactionID: string (nullable = true)\n",
      " |-- CustomerID: string (nullable = true)\n",
      " |-- CustGender: string (nullable = true)\n",
      " |-- CustLocation: string (nullable = true)\n",
      " |-- CustAccountBalance: float (nullable = true)\n",
      " |-- TransactionDate: date (nullable = true)\n",
      " |-- TransactionAmountINR: float (nullable = true)\n",
      " |-- CustomerAge: integer (nullable = true)\n",
      " |-- LastPart: string (nullable = true)\n",
      "\n"
     ]
    }
   ],
   "source": [
    "#writing the schema\n",
    "df_final.printSchema()"
   ]
  },
  {
   "cell_type": "code",
   "execution_count": 59,
   "id": "a9c3aed0",
   "metadata": {},
   "outputs": [
    {
     "data": {
      "text/plain": [
       "3444"
      ]
     },
     "execution_count": 59,
     "metadata": {},
     "output_type": "execute_result"
    }
   ],
   "source": [
    "#counting unique vaue after new column \n",
    "unique1 = df_final.select(\"LastPart\").distinct()\n",
    "unique1.count()"
   ]
  },
  {
   "cell_type": "code",
   "execution_count": 47,
   "id": "86f4e83a",
   "metadata": {},
   "outputs": [
    {
     "name": "stdout",
     "output_type": "stream",
     "text": [
      "+-------------+----------+----------+--------------------+------------------+---------------+--------------------+-----------+------------+\n",
      "|TransactionID|CustomerID|CustGender|        CustLocation|CustAccountBalance|TransactionDate|TransactionAmountINR|CustomerAge|    LastPart|\n",
      "+-------------+----------+----------+--------------------+------------------+---------------+--------------------+-----------+------------+\n",
      "|           T1|  C5841053|         F|          JAMSHEDPUR|          17819.05|     2016-08-02|                25.0|         22|  JAMSHEDPUR|\n",
      "|           T3|  C4417068|         F|              MUMBAI|          17874.44|     2016-08-02|               459.0|         19|      MUMBAI|\n",
      "|           T4|  C5342380|         F|              MUMBAI|          866503.2|     2016-08-02|              2060.0|         43|      MUMBAI|\n",
      "|           T5|  C9031234|         F|         NAVI MUMBAI|           6714.43|     2016-08-02|              1762.5|         28|      MUMBAI|\n",
      "|           T6|  C1536588|         F|            ITANAGAR|           53609.2|     2016-08-02|               676.0|         44|    ITANAGAR|\n",
      "|           T7|  C7126560|         F|              MUMBAI|            973.46|     2016-08-02|               566.0|         24|      MUMBAI|\n",
      "|           T8|  C1220223|         M|              MUMBAI|          95075.54|     2016-08-02|               148.0|         34|      MUMBAI|\n",
      "|           T9|  C8536061|         F|             GURGAON|          14906.96|     2016-08-02|               833.0|         28|     GURGAON|\n",
      "|          T10|  C6638934|         M|              MUMBAI|           4279.22|     2016-08-02|              289.11|         32|      MUMBAI|\n",
      "|          T11|  C5430833|         M|              MOHALI|          48429.49|     2016-08-02|               259.0|         34|      MOHALI|\n",
      "|          T12|  C6939838|         M|              GUNTUR|          14613.46|     2016-08-02|               202.0|         28|      GUNTUR|\n",
      "|          T13|  C6339347|         M|           AHMEDABAD|          32274.78|     2016-08-02|             12300.0|         38|   AHMEDABAD|\n",
      "|          T14|  C8327851|         F|               THANE|          59950.44|     2016-08-01|                50.0|         24|       THANE|\n",
      "|          T15|  C7917151|         M|                PUNE|          10100.84|     2016-08-01|               338.0|         38|        PUNE|\n",
      "|          T18|  C8967349|         M|              MUMBAI|           2177.85|     2016-08-01|                54.0|         27|      MUMBAI|\n",
      "|          T19|  C3732016|         M|              MUMBAI|          32816.17|     2016-08-01|               315.0|         25|      MUMBAI|\n",
      "|          T20|  C8999019|         M|                PUNE|           10643.5|     2016-08-01|               945.0|         31|        PUNE|\n",
      "|          T21|  C6121429|         M|NO 3 KALYANI NAGA...|           2934.22|     2016-08-01|                36.0|         23|        PUNE|\n",
      "|          T22|  C4511244|         F|        SECUNDERABAD|           4470.15|     2016-08-03|                27.0|         27|SECUNDERABAD|\n",
      "|          T24|  C5830215|         M|             LUCKNOW|          12868.42|     2016-08-03|               291.0|         30|     LUCKNOW|\n",
      "+-------------+----------+----------+--------------------+------------------+---------------+--------------------+-----------+------------+\n",
      "only showing top 20 rows\n",
      "\n"
     ]
    }
   ],
   "source": [
    "#confirming the values\n",
    "df_final.show()"
   ]
  },
  {
   "cell_type": "code",
   "execution_count": 48,
   "id": "2fe419a0",
   "metadata": {},
   "outputs": [],
   "source": [
    "#drop the customer location column which have multiple value in single row\n",
    "df_final = df_final.drop(\"CustLocation\")"
   ]
  },
  {
   "cell_type": "code",
   "execution_count": 49,
   "id": "e5f899ac",
   "metadata": {},
   "outputs": [
    {
     "name": "stdout",
     "output_type": "stream",
     "text": [
      "root\n",
      " |-- TransactionID: string (nullable = true)\n",
      " |-- CustomerID: string (nullable = true)\n",
      " |-- CustGender: string (nullable = true)\n",
      " |-- CustAccountBalance: float (nullable = true)\n",
      " |-- TransactionDate: date (nullable = true)\n",
      " |-- TransactionAmountINR: float (nullable = true)\n",
      " |-- CustomerAge: integer (nullable = true)\n",
      " |-- LastPart: string (nullable = true)\n",
      "\n"
     ]
    }
   ],
   "source": [
    "#after adding and droping the columns\n",
    "df_final.printSchema()"
   ]
  },
  {
   "cell_type": "code",
   "execution_count": 50,
   "id": "73eefa60",
   "metadata": {},
   "outputs": [],
   "source": [
    "#change column nme to customer location\n",
    "df_final = df_final.withColumnRenamed(\"LastPart\",\"CustLocation\")"
   ]
  },
  {
   "cell_type": "code",
   "execution_count": 51,
   "id": "d57c6bea",
   "metadata": {
    "scrolled": true
   },
   "outputs": [
    {
     "name": "stdout",
     "output_type": "stream",
     "text": [
      "root\n",
      " |-- TransactionID: string (nullable = true)\n",
      " |-- CustomerID: string (nullable = true)\n",
      " |-- CustGender: string (nullable = true)\n",
      " |-- CustAccountBalance: float (nullable = true)\n",
      " |-- TransactionDate: date (nullable = true)\n",
      " |-- TransactionAmountINR: float (nullable = true)\n",
      " |-- CustomerAge: integer (nullable = true)\n",
      " |-- CustLocation: string (nullable = true)\n",
      "\n"
     ]
    }
   ],
   "source": [
    "#final dataframe\n",
    "df_final.printSchema()"
   ]
  },
  {
   "cell_type": "markdown",
   "id": "82e09af4",
   "metadata": {},
   "source": [
    "# Basic aggregation"
   ]
  },
  {
   "cell_type": "code",
   "execution_count": 52,
   "id": "74fa1f4d",
   "metadata": {},
   "outputs": [
    {
     "name": "stdout",
     "output_type": "stream",
     "text": [
      "+----------+----------------------+--------------------+--------------------+---------------+-----------------+-------------------+--------------------+------------+----------+--------+\n",
      "|CustomerID|TotalTransactionAmount|AvgTransactionAmount|StdTransactionAmount|NumTransactions|AvgAccountBalance|NumTransactionYears|NumTransactionMonths|CustLocation|CustGender|AgeGroup|\n",
      "+----------+----------------------+--------------------+--------------------+---------------+-----------------+-------------------+--------------------+------------+----------+--------+\n",
      "|  C1010248|                2000.0|              2000.0|                 NaN|              1|     195876.65625|                  1|                   1|    VADODARA|         M|   36-45|\n",
      "|  C1013555|                 110.0|               110.0|                 NaN|              1|     334906.65625|                  1|                   1|       DELHI|         M|   18-25|\n",
      "|  C1013666|                5000.0|              5000.0|                 NaN|              1|   111059.4921875|                  1|                   1|     GURGAON|         F|   26-35|\n",
      "|  C1014842|                 198.0|               198.0|                 NaN|              1|     59933.421875|                  1|                   1|       SURAT|         M|   26-35|\n",
      "|  C1016561|                  45.0|                45.0|                 NaN|              1|   19656.05078125|                  1|                   1|   BANGALORE|         M|   18-25|\n",
      "|  C1016612|                1058.0|              1058.0|                 NaN|              1|     401816.15625|                  1|                   1|       DELHI|         M|   36-45|\n",
      "|  C1017751|                1900.0|              1900.0|                 NaN|              1|    95778.6015625|                  1|                   1|    TIRUPPUR|         M|   26-35|\n",
      "|  C1018077|                 100.0|               100.0|                 NaN|              1|  2958.2900390625|                  1|                   1|       DELHI|         M|   26-35|\n",
      "|  C1019256|                 515.0|               515.0|                 NaN|              1|61.70000076293945|                  1|                   1|     CHENNAI|         F|   18-25|\n",
      "|  C1019560|                1190.0|              1190.0|                 NaN|              1|1180.050048828125|                  1|                   1|       DELHI|         F|   26-35|\n",
      "|  C1019570|      2384.97998046875|    2384.97998046875|                 NaN|              1|       1876773.75|                  1|                   1|      MUMBAI|         M|   36-45|\n",
      "|  C1020821|                4940.0|              2470.0|  1796.0512242138307|              2|  11750.025390625|                  1|                   2|       DELHI|         F|   26-35|\n",
      "|  C1020885|                 242.0|               242.0|                 NaN|              1|   49643.69921875|                  1|                   1|      KANPUR|         M|   26-35|\n",
      "|  C1021971|                 310.0|               155.0|   77.78174593052023|              2| 552975.232421875|                  1|                   2|   AHMEDABAD|         M|   26-35|\n",
      "|  C1023433|                 200.0|               200.0|                 NaN|              1|  16213.849609375|                  1|                   1|      MUMBAI|         F|   26-35|\n",
      "|  C1024282|                1191.0|              1191.0|                 NaN|              1|  17940.240234375|                  1|                   1|       DELHI|         M|   36-45|\n",
      "|  C1026414|     2642.150001525879|  1321.0750007629395|  1725.2344789990386|              2|  4973.1201171875|                  1|                   1|   PANCHKULA|         M|   18-25|\n",
      "|  C1026635|                 256.0|               256.0|                 NaN|              1|   38080.91015625|                  1|                   1|     SANGRUR|         F|   26-35|\n",
      "|  C1027372|                  77.0|                77.0|                 NaN|              1| 7744.64990234375|                  1|                   1|   BANGALORE|         M|   36-45|\n",
      "|  C1027985|                  31.0|                31.0|                 NaN|              1|40.40999984741211|                  1|                   1|       NOIDA|         M|   18-25|\n",
      "+----------+----------------------+--------------------+--------------------+---------------+-----------------+-------------------+--------------------+------------+----------+--------+\n",
      "only showing top 20 rows\n",
      "\n"
     ]
    }
   ],
   "source": [
    "\n",
    "# Load the dataset\n",
    "data = df_final\n",
    "\n",
    "# Convert 'TransactionDate' to DateType\n",
    "data = data.withColumn(\"TransactionDate\", col(\"TransactionDate\").cast(\"date\"))\n",
    "\n",
    "# Extract datetime features\n",
    "data = data.withColumn(\"TransactionYear\", year(col(\"TransactionDate\")))\n",
    "data = data.withColumn(\"TransactionMonth\", month(col(\"TransactionDate\")))\n",
    "data = data.withColumn(\"TransactionDay\", dayofmonth(col(\"TransactionDate\")))\n",
    "data = data.withColumn(\"TransactionDayOfWeek\", dayofweek(col(\"TransactionDate\")))\n",
    "\n",
    "# Create Age Groups\n",
    "data = data.withColumn(\"AgeGroup\", \n",
    "                       when((col(\"CustomerAge\") >= 18) & (col(\"CustomerAge\") < 25), \"18-25\")\n",
    "                       .when((col(\"CustomerAge\") >= 25) & (col(\"CustomerAge\") < 35), \"26-35\")\n",
    "                       .when((col(\"CustomerAge\") >= 35) & (col(\"CustomerAge\") < 45), \"36-45\")\n",
    "                       .when((col(\"CustomerAge\") >= 45) & (col(\"CustomerAge\") < 55), \"46-55\")\n",
    "                       .when((col(\"CustomerAge\") >= 55) & (col(\"CustomerAge\") < 65), \"56-65\")\n",
    "                       .when((col(\"CustomerAge\") >= 65) & (col(\"CustomerAge\") < 75), \"66-75\")\n",
    "                       .otherwise(\"76+\"))\n",
    "\n",
    "# Now perform the aggregation\n",
    "customer_features = data.groupBy(\"CustomerID\").agg(\n",
    "    spark_sum(\"TransactionAmountINR\").alias(\"TotalTransactionAmount\"),\n",
    "    mean(\"TransactionAmountINR\").alias(\"AvgTransactionAmount\"),\n",
    "    stddev(\"TransactionAmountINR\").alias(\"StdTransactionAmount\"),\n",
    "    count(\"TransactionAmountINR\").alias(\"NumTransactions\"),\n",
    "    mean(\"CustAccountBalance\").alias(\"AvgAccountBalance\"),\n",
    "    countDistinct(\"TransactionYear\").alias(\"NumTransactionYears\"),\n",
    "    countDistinct(\"TransactionMonth\").alias(\"NumTransactionMonths\"),\n",
    "    first(\"CustLocation\").alias(\"CustLocation\"),\n",
    "    first(\"CustGender\").alias(\"CustGender\"),\n",
    "    first(\"AgeGroup\").alias(\"AgeGroup\")\n",
    ")\n",
    "\n",
    "# Show the resulting dataframe\n",
    "customer_features.show()\n"
   ]
  },
  {
   "cell_type": "markdown",
   "id": "75f15f07",
   "metadata": {},
   "source": [
    "# Saving data into CSV format"
   ]
  },
  {
   "cell_type": "code",
   "execution_count": 53,
   "id": "827e1dc8",
   "metadata": {},
   "outputs": [],
   "source": [
    "#saving data in csv format\n",
    "output_dir = \"file:///home/talentum/dataset\"\n",
    "df_final.coalesce(1).write.option(\"header\",\"true\").csv(output_dir, mode='overwrite')"
   ]
  },
  {
   "cell_type": "code",
   "execution_count": null,
   "id": "a1f7c979",
   "metadata": {},
   "outputs": [],
   "source": []
  }
 ],
 "metadata": {
  "kernelspec": {
   "display_name": "Python 3 (ipykernel)",
   "language": "python",
   "name": "python3"
  },
  "language_info": {
   "codemirror_mode": {
    "name": "ipython",
    "version": 3
   },
   "file_extension": ".py",
   "mimetype": "text/x-python",
   "name": "python",
   "nbconvert_exporter": "python",
   "pygments_lexer": "ipython3",
   "version": "3.10.1"
  }
 },
 "nbformat": 4,
 "nbformat_minor": 5
}
