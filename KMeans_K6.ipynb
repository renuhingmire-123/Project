{
 "cells": [
  {
   "cell_type": "code",
   "execution_count": 4,
   "id": "fcdcbde3",
   "metadata": {},
   "outputs": [],
   "source": [
    "# Intialization\n",
    "import os\n",
    "import sys\n",
    "\n",
    "os.environ[\"SPARK_HOME\"] = \"/home/talentum/spark\"\n",
    "os.environ[\"PYLIB\"] = os.environ[\"SPARK_HOME\"] + \"/python/lib\"\n",
    "# In below two lines, use /usr/bin/python2.7 if you want to use Python 2\n",
    "os.environ[\"PYSPARK_PYTHON\"] = \"/usr/bin/python3.6\" \n",
    "os.environ[\"PYSPARK_DRIVER_PYTHON\"] = \"/usr/bin/python3\"\n",
    "sys.path.insert(0, os.environ[\"PYLIB\"] +\"/py4j-0.10.7-src.zip\")\n",
    "sys.path.insert(0, os.environ[\"PYLIB\"] +\"/pyspark.zip\")\n",
    "\n",
    "os.environ['PYSPARK_SUBMIT_ARGS'] = '--packages com.databricks:spark-xml_2.11:0.6.0,org.apache.spark:spark-avro_2.11:2.4.3 pyspark-shell'"
   ]
  },
  {
   "cell_type": "code",
   "execution_count": 5,
   "id": "240d57c3",
   "metadata": {},
   "outputs": [],
   "source": [
    "#Entrypoint 2.x\n",
    "from pyspark.sql import SparkSession\n",
    "spark = SparkSession.builder.appName(\"HierarchicalClustering\").enableHiveSupport().getOrCreate()\n",
    "\n",
    "sc = spark.sparkContext"
   ]
  },
  {
   "cell_type": "code",
   "execution_count": 6,
   "id": "2e2ef841",
   "metadata": {},
   "outputs": [
    {
     "name": "stdout",
     "output_type": "stream",
     "text": [
      "+-------------+----------+----------+------------------+-------------------+--------------------+-----------+------------+\n",
      "|TransactionID|CustomerID|CustGender|CustAccountBalance|    TransactionDate|TransactionAmountINR|CustomerAge|CustLocation|\n",
      "+-------------+----------+----------+------------------+-------------------+--------------------+-----------+------------+\n",
      "|           T1|  C5841053|         F|          17819.05|2016-08-02 00:00:00|                25.0|         22|  JAMSHEDPUR|\n",
      "|           T3|  C4417068|         F|          17874.44|2016-08-02 00:00:00|               459.0|         19|      MUMBAI|\n",
      "|           T4|  C5342380|         F|          866503.2|2016-08-02 00:00:00|              2060.0|         43|      MUMBAI|\n",
      "|           T5|  C9031234|         F|           6714.43|2016-08-02 00:00:00|              1762.5|         28|      MUMBAI|\n",
      "|           T6|  C1536588|         F|           53609.2|2016-08-02 00:00:00|               676.0|         44|    ITANAGAR|\n",
      "+-------------+----------+----------+------------------+-------------------+--------------------+-----------+------------+\n",
      "only showing top 5 rows\n",
      "\n",
      "root\n",
      " |-- TransactionID: string (nullable = true)\n",
      " |-- CustomerID: string (nullable = true)\n",
      " |-- CustGender: string (nullable = true)\n",
      " |-- CustAccountBalance: double (nullable = true)\n",
      " |-- TransactionDate: timestamp (nullable = true)\n",
      " |-- TransactionAmountINR: double (nullable = true)\n",
      " |-- CustomerAge: integer (nullable = true)\n",
      " |-- CustLocation: string (nullable = true)\n",
      "\n"
     ]
    }
   ],
   "source": [
    "from pyspark.sql import SparkSession\n",
    "from pyspark.ml.feature import VectorAssembler, StandardScaler\n",
    "from pyspark.ml.clustering import KMeans\n",
    "from pyspark.ml.evaluation import ClusteringEvaluator\n",
    "from pyspark.sql.functions import col\n",
    "\n",
    "# Initialize a Spark session\n",
    "spark = SparkSession.builder.appName(\"KMeansClustering\").getOrCreate()\n",
    "\n",
    "df = spark.read.csv(\"file:///home/talentum/shared/C-DAC_Project/Bank_Transaction_clean.csv\", header=True, inferSchema=True)\n",
    "\n",
    "df.show(5)\n",
    "df.printSchema()"
   ]
  },
  {
   "cell_type": "code",
   "execution_count": 7,
   "id": "a1517b8b",
   "metadata": {},
   "outputs": [],
   "source": [
    "# Selecting some essential features\n",
    "selected_features = ['CustAccountBalance', 'TransactionAmountINR', 'CustomerAge']  \n",
    "\n",
    "# Assemble the features into a feature vector\n",
    "assembler = VectorAssembler(inputCols=selected_features, outputCol=\"features\")\n",
    "assembled_data = assembler.transform(df)\n",
    "\n",
    "# Scale the features\n",
    "scaler = StandardScaler(inputCol=\"features\", outputCol=\"scaled_features\")\n",
    "scaled_data = scaler.fit(assembled_data).transform(assembled_data)"
   ]
  },
  {
   "cell_type": "code",
   "execution_count": 8,
   "id": "eae52b17",
   "metadata": {},
   "outputs": [],
   "source": [
    "train_data, test_data = scaled_data.randomSplit([0.8, 0.2], seed=42)"
   ]
  },
  {
   "cell_type": "code",
   "execution_count": 9,
   "id": "8d321fd5",
   "metadata": {},
   "outputs": [
    {
     "name": "stdout",
     "output_type": "stream",
     "text": [
      "Within-Set Sum of Squared Errors (WSSSE) for k=2: 2294179.2785260286\n",
      "Within-Set Sum of Squared Errors (WSSSE) for k=3: 1661731.4242971162\n",
      "Within-Set Sum of Squared Errors (WSSSE) for k=4: 1270519.3163925745\n",
      "Within-Set Sum of Squared Errors (WSSSE) for k=5: 1250472.3686415022\n",
      "Within-Set Sum of Squared Errors (WSSSE) for k=6: 882431.8319383902\n",
      "Within-Set Sum of Squared Errors (WSSSE) for k=7: 734949.7738824183\n",
      "Within-Set Sum of Squared Errors (WSSSE) for k=8: 616644.0883046531\n",
      "Within-Set Sum of Squared Errors (WSSSE) for k=9: 540138.26195008\n",
      "Within-Set Sum of Squared Errors (WSSSE) for k=10: 517674.5109346539\n"
     ]
    }
   ],
   "source": [
    "# List to store WSSSE for each value of k\n",
    "wssse_list = []\n",
    "\n",
    "# Test different values of k (e.g., from 2 to 10)\n",
    "k_values = list(range(2, 11))\n",
    "\n",
    "for k in k_values:\n",
    "    kmeans = KMeans(featuresCol=\"scaled_features\", k=k)\n",
    "    model = kmeans.fit(scaled_data)\n",
    "    wssse = model.summary.trainingCost  \n",
    "    wssse_list.append(wssse)\n",
    "    print(f\"Within-Set Sum of Squared Errors (WSSSE) for k={k}: {wssse}\")\n"
   ]
  },
  {
   "cell_type": "code",
   "execution_count": 7,
   "id": "672cd0c9",
   "metadata": {},
   "outputs": [
    {
     "data": {
      "image/png": "[encoded data removed]",
      "text/plain": [
       "<Figure size 720x432 with 1 Axes>"
      ]
     },
     "metadata": {
      "needs_background": "light"
     },
     "output_type": "display_data"
    }
   ],
   "source": [
    "# Plot the WSSSE values against k values to visualize the elbow\n",
    "import matplotlib.pyplot as plt\n",
    "import pandas as pd\n",
    "\n",
    "plt.figure(figsize=(10, 6))\n",
    "plt.plot(k_values, wssse_list, marker='o')\n",
    "plt.title(\"Elbow Method for Optimal k\")\n",
    "plt.xlabel(\"Number of clusters (k)\")\n",
    "plt.ylabel(\"Within-Set Sum of Squared Errors (WSSSE)\")\n",
    "plt.show()"
   ]
  },
  {
   "cell_type": "code",
   "execution_count": 10,
   "id": "855ca9b7",
   "metadata": {},
   "outputs": [],
   "source": [
    "#K=6\n",
    "# Initialize the K-Means model\n",
    "kmeans = KMeans(featuresCol=\"scaled_features\", k=6) \n",
    "\n",
    "# Fit the model on the training data\n",
    "model = kmeans.fit(train_data)\n",
    "\n",
    "# Make predictions on the test data\n",
    "predictions = model.transform(test_data)"
   ]
  },
  {
   "cell_type": "code",
   "execution_count": 11,
   "id": "9673821f",
   "metadata": {},
   "outputs": [
    {
     "name": "stdout",
     "output_type": "stream",
     "text": [
      "Silhouette score = 0.6670919548029296\n"
     ]
    }
   ],
   "source": [
    "# Evaluate clustering by computing the Silhouette score\n",
    "evaluator = ClusteringEvaluator(featuresCol=\"scaled_features\", metricName=\"silhouette\", distanceMeasure=\"squaredEuclidean\")\n",
    "\n",
    "silhouette = evaluator.evaluate(predictions)\n",
    "print(f\"Silhouette score = {silhouette}\")"
   ]
  },
  {
   "cell_type": "code",
   "execution_count": 18,
   "id": "9b1dfa01",
   "metadata": {},
   "outputs": [],
   "source": [
    "# best is k=6\n",
    "#Silhouette score = 0.6670919548029296"
   ]
  },
  {
   "cell_type": "code",
   "execution_count": null,
   "id": "73e481ad",
   "metadata": {},
   "outputs": [],
   "source": []
  },
  {
   "cell_type": "markdown",
   "id": "766e22e7",
   "metadata": {},
   "source": [
    "# cluster details"
   ]
  },
  {
   "cell_type": "code",
   "execution_count": 12,
   "id": "da495eed",
   "metadata": {},
   "outputs": [
    {
     "name": "stdout",
     "output_type": "stream",
     "text": [
      "Cluster Centers: \n",
      "[0.09932485 0.15554586 4.38411262]\n",
      "[0.21848917 0.27597137 6.11300749]\n",
      "[ 0.63114365 11.2022457   5.55162246]\n",
      "[41.66242664  0.92972179  6.59250494]\n",
      "[1.42411936e-01 2.26957286e+02 6.85421118e+00]\n",
      "[7.67886008 0.54439974 6.18531937]\n"
     ]
    }
   ],
   "source": [
    "# Show the cluster centers\n",
    "centers = model.clusterCenters()\n",
    "print(\"Cluster Centers: \")\n",
    "for center in centers:\n",
    "    print(center)"
   ]
  },
  {
   "cell_type": "code",
   "execution_count": 13,
   "id": "836c54d5",
   "metadata": {},
   "outputs": [],
   "source": [
    "#These are the centroids or the average points of each cluster. In this case, we have six cluster centers, \n",
    "#each represented by three coordinates (likely features or dimensions in your data)."
   ]
  },
  {
   "cell_type": "code",
   "execution_count": 14,
   "id": "ed5d3de0",
   "metadata": {},
   "outputs": [
    {
     "name": "stdout",
     "output_type": "stream",
     "text": [
      "+----------+------+\n",
      "|prediction| count|\n",
      "+----------+------+\n",
      "|         0|117754|\n",
      "|         1| 63894|\n",
      "|         5|   885|\n",
      "|         2|   634|\n",
      "|         3|    48|\n",
      "|         4|     2|\n",
      "+----------+------+\n",
      "\n"
     ]
    }
   ],
   "source": [
    "# Count the number of data points in each cluster\n",
    "cluster_counts = predictions.groupBy(\"prediction\").count().orderBy(col(\"count\").desc())\n",
    "cluster_counts.show()"
   ]
  },
  {
   "cell_type": "code",
   "execution_count": 15,
   "id": "7f5b589a",
   "metadata": {},
   "outputs": [],
   "source": [
    "from pyspark.sql import functions as F\n",
    "# Define sql_min as a wrapper around F.min\n",
    "def sql_min(column):\n",
    "    return F.min(column)\n",
    "\n",
    "# Define sql_max as a wrapper around F.max\n",
    "def sql_max(column):\n",
    "    return F.max(column)"
   ]
  },
  {
   "cell_type": "code",
   "execution_count": 16,
   "id": "1ee6494e",
   "metadata": {},
   "outputs": [
    {
     "name": "stdout",
     "output_type": "stream",
     "text": [
      "Cluster 0:\n",
      "  Total data points: 117754\n",
      "  CustAccountBalance - Min: 0.0, Max: 1764546.1\n",
      "  TransactionAmountINR - Min: 0.0, Max: 32300.0\n",
      "  CustomerAge - Min: 18, Max: 30\n",
      "Cluster 1:\n",
      "  Total data points: 63894\n",
      "  CustAccountBalance - Min: 0.0, Max: 1755163.9\n",
      "  TransactionAmountINR - Min: 0.0, Max: 32300.0\n",
      "  CustomerAge - Min: 28, Max: 45\n",
      "Cluster 2:\n",
      "  Total data points: 634\n",
      "  CustAccountBalance - Min: 0.0, Max: 5037076.5\n",
      "  TransactionAmountINR - Min: 32123.27, Max: 600003.44\n",
      "  CustomerAge - Min: 18, Max: 45\n",
      "Cluster 3:\n",
      "  Total data points: 48\n",
      "  CustAccountBalance - Min: 11091701.0, Max: 43165556.0\n",
      "  TransactionAmountINR - Min: 10.32, Max: 30000.0\n",
      "  CustomerAge - Min: 28, Max: 45\n",
      "Cluster 4:\n",
      "  Total data points: 2\n",
      "  CustAccountBalance - Min: 14177.65, Max: 98660.33\n",
      "  TransactionAmountINR - Min: 720001.2, Max: 1380002.9\n",
      "  CustomerAge - Min: 31, Max: 38\n",
      "Cluster 5:\n",
      "  Total data points: 885\n",
      "  CustAccountBalance - Min: 1710172.6, Max: 10546546.0\n",
      "  TransactionAmountINR - Min: 0.0, Max: 90599.0\n",
      "  CustomerAge - Min: 20, Max: 45\n"
     ]
    }
   ],
   "source": [
    "# Analyze clusters\n",
    "\n",
    "for i in range(kmeans.getK()):\n",
    "    print(f\"Cluster {i}:\")\n",
    "    \n",
    "    # Filter data for each cluster\n",
    "    cluster_data = predictions.filter(col(\"prediction\") == i)\n",
    "    \n",
    "    # Total data points in the cluster\n",
    "    total_points = cluster_data.count()\n",
    "    print(f\"  Total data points: {total_points}\")\n",
    "    \n",
    "    # Min and Max values for each feature in the cluster\n",
    "    for feature in ['CustAccountBalance', 'TransactionAmountINR', 'CustomerAge']:\n",
    "        min_val = cluster_data.agg(sql_min(col(feature))).first()[0]\n",
    "        max_val = cluster_data.agg(sql_max(col(feature))).first()[0]\n",
    "        print(f\"  {feature} - Min: {min_val}, Max: {max_val}\")"
   ]
  },
  {
   "cell_type": "code",
   "execution_count": null,
   "id": "d06a38eb",
   "metadata": {},
   "outputs": [],
   "source": []
  }
 ],
 "metadata": {
  "kernelspec": {
   "display_name": "Python 3 (ipykernel)",
   "language": "python",
   "name": "python3"
  },
  "language_info": {
   "codemirror_mode": {
    "name": "ipython",
    "version": 3
   },
   "file_extension": ".py",
   "mimetype": "text/x-python",
   "name": "python",
   "nbconvert_exporter": "python",
   "pygments_lexer": "ipython3",
   "version": "3.11.5"
  }
 },
 "nbformat": 4,
 "nbformat_minor": 5
}
